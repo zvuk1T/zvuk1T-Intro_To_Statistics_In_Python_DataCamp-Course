{
 "cells": [
  {
   "cell_type": "markdown",
   "metadata": {},
   "source": [
    "# **DA107 Analytical Thinking**"
   ]
  },
  {
   "cell_type": "markdown",
   "metadata": {},
   "source": [
    "## **DA107.2 Introduction to Statistics in Python** ##\n",
    "\n",
    "( *datacamp* )\n",
    "[https://app.datacamp.com/learn/courses/introduction-to-statistics-in-python]"
   ]
  },
  {
   "cell_type": "markdown",
   "metadata": {},
   "source": [
    "### **Description:** ##\n",
    "Statistics is the study of how to ***collect, analyze, and draw conclusions*** from data. It’s a hugely valuable tool that you can use to bring the future into focus and infer the answer to tons of questions. For example, what is the likelihood of someone purchasing your product, how many calls will your support team receive, and how many jeans sizes should you manufacture to fit 95% of the population? In this course, you'll discover how to answer questions like these as you grow your statistical skills and learn how to calculate averages, use scatterplots to show the relationship between numeric values, and calculate correlation. You'll also tackle probability, the backbone of statistical reasoning, and learn how to use Python to conduct a well-designed study to draw your own conclusions from data."
   ]
  },
  {
   "cell_type": "code",
   "execution_count": 3,
   "metadata": {},
   "outputs": [
    {
     "name": "stdout",
     "output_type": "stream",
     "text": [
      "\u001b[33mDEPRECATION: Configuring installation scheme with distutils config files is deprecated and will no longer work in the near future. If you are using a Homebrew or Linuxbrew Python, please see discussion at https://github.com/Homebrew/homebrew-core/issues/76621\u001b[0m\u001b[33m\n",
      "\u001b[0mRequirement already satisfied: matplotlib in /opt/homebrew/lib/python3.9/site-packages (3.9.4)\n",
      "Requirement already satisfied: contourpy>=1.0.1 in /opt/homebrew/lib/python3.9/site-packages (from matplotlib) (1.3.0)\n",
      "Requirement already satisfied: cycler>=0.10 in /opt/homebrew/lib/python3.9/site-packages (from matplotlib) (0.12.1)\n",
      "Requirement already satisfied: fonttools>=4.22.0 in /opt/homebrew/lib/python3.9/site-packages (from matplotlib) (4.55.3)\n",
      "Requirement already satisfied: kiwisolver>=1.3.1 in /opt/homebrew/lib/python3.9/site-packages (from matplotlib) (1.4.7)\n",
      "Requirement already satisfied: numpy>=1.23 in /Users/zeal.v/Library/Python/3.9/lib/python/site-packages (from matplotlib) (2.0.2)\n",
      "Requirement already satisfied: packaging>=20.0 in /Users/zeal.v/Library/Python/3.9/lib/python/site-packages (from matplotlib) (24.2)\n",
      "Requirement already satisfied: pillow>=8 in /opt/homebrew/lib/python3.9/site-packages (from matplotlib) (11.1.0)\n",
      "Requirement already satisfied: pyparsing>=2.3.1 in /opt/homebrew/lib/python3.9/site-packages (from matplotlib) (3.2.1)\n",
      "Requirement already satisfied: python-dateutil>=2.7 in /Users/zeal.v/Library/Python/3.9/lib/python/site-packages (from matplotlib) (2.9.0.post0)\n",
      "Requirement already satisfied: importlib-resources>=3.2.0 in /opt/homebrew/lib/python3.9/site-packages (from matplotlib) (6.5.2)\n",
      "Requirement already satisfied: zipp>=3.1.0 in /Users/zeal.v/Library/Python/3.9/lib/python/site-packages (from importlib-resources>=3.2.0->matplotlib) (3.21.0)\n",
      "Requirement already satisfied: six>=1.5 in /Users/zeal.v/Library/Python/3.9/lib/python/site-packages (from python-dateutil>=2.7->matplotlib) (1.17.0)\n",
      "\u001b[33mDEPRECATION: Configuring installation scheme with distutils config files is deprecated and will no longer work in the near future. If you are using a Homebrew or Linuxbrew Python, please see discussion at https://github.com/Homebrew/homebrew-core/issues/76621\u001b[0m\u001b[33m\n",
      "\u001b[0mNote: you may need to restart the kernel to use updated packages.\n",
      "\u001b[33mDEPRECATION: Configuring installation scheme with distutils config files is deprecated and will no longer work in the near future. If you are using a Homebrew or Linuxbrew Python, please see discussion at https://github.com/Homebrew/homebrew-core/issues/76621\u001b[0m\u001b[33m\n",
      "\u001b[0mCollecting seaborn\n",
      "  Using cached seaborn-0.13.2-py3-none-any.whl.metadata (5.4 kB)\n",
      "Requirement already satisfied: numpy!=1.24.0,>=1.20 in /Users/zeal.v/Library/Python/3.9/lib/python/site-packages (from seaborn) (2.0.2)\n",
      "Requirement already satisfied: pandas>=1.2 in /Users/zeal.v/Library/Python/3.9/lib/python/site-packages (from seaborn) (2.2.3)\n",
      "Requirement already satisfied: matplotlib!=3.6.1,>=3.4 in /opt/homebrew/lib/python3.9/site-packages (from seaborn) (3.9.4)\n",
      "Requirement already satisfied: contourpy>=1.0.1 in /opt/homebrew/lib/python3.9/site-packages (from matplotlib!=3.6.1,>=3.4->seaborn) (1.3.0)\n",
      "Requirement already satisfied: cycler>=0.10 in /opt/homebrew/lib/python3.9/site-packages (from matplotlib!=3.6.1,>=3.4->seaborn) (0.12.1)\n",
      "Requirement already satisfied: fonttools>=4.22.0 in /opt/homebrew/lib/python3.9/site-packages (from matplotlib!=3.6.1,>=3.4->seaborn) (4.55.3)\n",
      "Requirement already satisfied: kiwisolver>=1.3.1 in /opt/homebrew/lib/python3.9/site-packages (from matplotlib!=3.6.1,>=3.4->seaborn) (1.4.7)\n",
      "Requirement already satisfied: packaging>=20.0 in /Users/zeal.v/Library/Python/3.9/lib/python/site-packages (from matplotlib!=3.6.1,>=3.4->seaborn) (24.2)\n",
      "Requirement already satisfied: pillow>=8 in /opt/homebrew/lib/python3.9/site-packages (from matplotlib!=3.6.1,>=3.4->seaborn) (11.1.0)\n",
      "Requirement already satisfied: pyparsing>=2.3.1 in /opt/homebrew/lib/python3.9/site-packages (from matplotlib!=3.6.1,>=3.4->seaborn) (3.2.1)\n",
      "Requirement already satisfied: python-dateutil>=2.7 in /Users/zeal.v/Library/Python/3.9/lib/python/site-packages (from matplotlib!=3.6.1,>=3.4->seaborn) (2.9.0.post0)\n",
      "Requirement already satisfied: importlib-resources>=3.2.0 in /opt/homebrew/lib/python3.9/site-packages (from matplotlib!=3.6.1,>=3.4->seaborn) (6.5.2)\n",
      "Requirement already satisfied: pytz>=2020.1 in /Users/zeal.v/Library/Python/3.9/lib/python/site-packages (from pandas>=1.2->seaborn) (2024.2)\n",
      "Requirement already satisfied: tzdata>=2022.7 in /Users/zeal.v/Library/Python/3.9/lib/python/site-packages (from pandas>=1.2->seaborn) (2024.2)\n",
      "Requirement already satisfied: zipp>=3.1.0 in /Users/zeal.v/Library/Python/3.9/lib/python/site-packages (from importlib-resources>=3.2.0->matplotlib!=3.6.1,>=3.4->seaborn) (3.21.0)\n",
      "Requirement already satisfied: six>=1.5 in /Users/zeal.v/Library/Python/3.9/lib/python/site-packages (from python-dateutil>=2.7->matplotlib!=3.6.1,>=3.4->seaborn) (1.17.0)\n",
      "Using cached seaborn-0.13.2-py3-none-any.whl (294 kB)\n",
      "Installing collected packages: seaborn\n",
      "\u001b[33m  DEPRECATION: Configuring installation scheme with distutils config files is deprecated and will no longer work in the near future. If you are using a Homebrew or Linuxbrew Python, please see discussion at https://github.com/Homebrew/homebrew-core/issues/76621\u001b[0m\u001b[33m\n",
      "\u001b[0m\u001b[33mDEPRECATION: Configuring installation scheme with distutils config files is deprecated and will no longer work in the near future. If you are using a Homebrew or Linuxbrew Python, please see discussion at https://github.com/Homebrew/homebrew-core/issues/76621\u001b[0m\u001b[33m\n",
      "\u001b[0mSuccessfully installed seaborn-0.13.2\n",
      "Note: you may need to restart the kernel to use updated packages.\n"
     ]
    }
   ],
   "source": [
    "%pip install matplotlib\n",
    "%pip install seaborn"
   ]
  },
  {
   "cell_type": "code",
   "execution_count": 1,
   "metadata": {},
   "outputs": [],
   "source": [
    "import numpy as np\n",
    "import pandas as pd\n",
    "import matplotlib.pyplot as plt\n",
    "import seaborn as sns\n",
    "import scipy.stats as stats\n",
    "from scipy import linalg\n",
    "from scipy.stats import binom\n",
    "from scipy.stats import norm"
   ]
  },
  {
   "cell_type": "code",
   "execution_count": 390,
   "metadata": {},
   "outputs": [],
   "source": [
    "food_consumption = pd.read_csv('/Users/zeal.v/Library/CloudStorage/OneDrive-Personal/1T/2024_Weiterbildung/Masterschool/DA107 Analytical Thinking/DA107.2 Statistics and Visualization/DA107.2 Introduction to Statistics in Python/DA107.2 DB/food_consumption.csv')"
   ]
  },
  {
   "cell_type": "code",
   "execution_count": 391,
   "metadata": {},
   "outputs": [
    {
     "name": "stdout",
     "output_type": "stream",
     "text": [
      "   Unnamed: 0    country food_category  consumption  co2_emission\n",
      "0           1  Argentina          pork        10.51         37.20\n",
      "1           2  Argentina       poultry        38.66         41.53\n",
      "2           3  Argentina          beef        55.48       1712.00\n",
      "3           4  Argentina     lamb_goat         1.56         54.63\n",
      "4           5  Argentina          fish         4.36          6.96\n"
     ]
    }
   ],
   "source": [
    "print(food_consumption.head())\n",
    "#print(food_consumption.isna().sum())\n",
    "#print(food_consumption.describe())\n",
    "#print(food_consumption.info())"
   ]
  },
  {
   "cell_type": "markdown",
   "metadata": {},
   "source": [
    "## Chapter 1: Summary Statistics ##\n",
    "Summary statistics gives you the tools you need to boil down massive datasets to reveal the highlights. In this chapter, you'll explore summary statistics including mean, median, and standard deviation, and learn how to accurately interpret them. You'll also develop your critical thinking skills, allowing you to choose the best summary statistics for your data."
   ]
  },
  {
   "cell_type": "markdown",
   "metadata": {},
   "source": [
    "### Video Lesson 1.01: What is statistic? ###\n",
    "[https://campus.datacamp.com/courses/introduction-to-statistics-in-python/summary-statistics-1?ex=1]"
   ]
  },
  {
   "cell_type": "markdown",
   "metadata": {},
   "source": [
    "### Video Lesson 1.04: Mesaures of center ###\n",
    "[https://campus.datacamp.com/courses/introduction-to-statistics-in-python/summary-statistics-1?ex=4]"
   ]
  },
  {
   "cell_type": "markdown",
   "metadata": {},
   "source": [
    "### Exercise 1.05: Mean and Median ###\n",
    "In this chapter, you'll be working with the food_consumption dataset from 2018 \n",
    "Food Carbon Footprint Index by nu3. The food_consumption dataset contains the number of \n",
    "kilograms of food consumed per person per year in each country and \n",
    "food category (consumption), and its carbon footprint (co2_emissions) \n",
    "measured in kilograms of carbon dioxide, or CO2.\n",
    "\n",
    "In this exercise, you'll compute measures of center to compare food consumption \n",
    "in the US and Belgium using your pandas and numpy skills.\n",
    "\n",
    "pandas is imported as pd for you and food_consumption is pre-loaded.\n"
   ]
  },
  {
   "cell_type": "code",
   "execution_count": 392,
   "metadata": {},
   "outputs": [
    {
     "name": "stdout",
     "output_type": "stream",
     "text": [
      "44.650000000000006\n",
      "44.650000000000006\n"
     ]
    }
   ],
   "source": [
    "# Instructions\n",
    "\n",
    "''' Subset food_consumption to get the rows where the country is 'USA'. '''\n",
    "# Subset country for USA: usa_consumption\n",
    "usa_consumption = food_consumption[food_consumption['country'] == 'USA']\n",
    "\n",
    "''' Calculate the mean of food consumption in the usa_consumption DataFrame, \n",
    "which is already created for you. '''\n",
    "# Calculate mean consumption in USA\n",
    "print(np.mean(usa_consumption['consumption'])) # NumPy function\n",
    "print(usa_consumption['consumption'].mean()) # Pandas method"
   ]
  },
  {
   "cell_type": "code",
   "execution_count": 393,
   "metadata": {},
   "outputs": [
    {
     "name": "stdout",
     "output_type": "stream",
     "text": [
      "14.58\n",
      "14.58\n"
     ]
    },
    {
     "data": {
      "text/plain": [
       "' Key Differences:\\nLibrary: The first line uses NumPy, while the second line uses Pandas.\\nMethod Type: np.mean is a function, whereas .mean() is a method of the Pandas Series \\nobject.\\nPerformance: In most cases, the performance difference is negligible, but using the \\nPandas method can be slightly more efficient because it avoids the conversion to a \\nNumPy array. '"
      ]
     },
     "execution_count": 393,
     "metadata": {},
     "output_type": "execute_result"
    }
   ],
   "source": [
    "\n",
    "''' Calculate the median of food consumption in the usa_consumption DataFrame '''\n",
    "# Calculate median consumption in USA\n",
    "print(np.median(usa_consumption['consumption'])) # NumPy function\n",
    "print(usa_consumption['consumption'].median()) # Pandas method\n",
    "\n",
    "\n",
    "''' Key Differences:\n",
    "Library: The first line uses NumPy, while the second line uses Pandas.\n",
    "Method Type: np.mean is a function, whereas .mean() is a method of the Pandas Series \n",
    "object.\n",
    "Performance: In most cases, the performance difference is negligible, but using the \n",
    "Pandas method can be slightly more efficient because it avoids the conversion to a \n",
    "NumPy array. '''"
   ]
  },
  {
   "cell_type": "markdown",
   "metadata": {},
   "source": [
    "#### Exercise 1.05: Mean vs. Median ####\n",
    "In the video, you learned that the mean is the sum of all the data points \n",
    "divided by the total number of data points, and the median is the middle value of \n",
    "the dataset where 50% of the data is less than the median, \n",
    "and 50% of the data is greater than the median. \n",
    "\n",
    "In this exercise, you'll compare these two measures of center.\n",
    "\n",
    "pandas is loaded as pd, numpy is loaded as np, and food_consumption is available."
   ]
  },
  {
   "cell_type": "code",
   "execution_count": 394,
   "metadata": {},
   "outputs": [
    {
     "data": {
      "image/png": "[encoded data removed]",
      "text/plain": [
       "<Figure size 640x480 with 1 Axes>"
      ]
     },
     "metadata": {},
     "output_type": "display_data"
    },
    {
     "data": {
      "text/plain": [
       "<Axes: ylabel='Frequency'>"
      ]
     },
     "execution_count": 394,
     "metadata": {},
     "output_type": "execute_result"
    },
    {
     "data": {
      "image/png": "[encoded data removed]",
      "text/plain": [
       "<Figure size 640x480 with 1 Axes>"
      ]
     },
     "metadata": {},
     "output_type": "display_data"
    }
   ],
   "source": [
    "# Instructions 1/4:\n",
    "\n",
    "''' Import matplotlib.pyplot with the alias plt. '''\n",
    "# Import matplotlib.pyplot with alias plt\n",
    "import matplotlib.pyplot as plt\n",
    "\n",
    "''' Subset food_consumption to get the rows where food_category is 'rice'. '''\n",
    "# Subset for food_category equals rice\n",
    "rice_consumption = food_consumption[food_consumption['food_category'] == 'rice']\n",
    "\n",
    "''' Create a histogram of co2_emission in rice_consumption DataFrame and show the plot. '''\n",
    "# Histogram of co2_emission for rice and show plot\n",
    "rice_consumption['co2_emission'].hist()\n",
    "plt.show()\n",
    "rice_consumption['co2_emission'].plot(kind='hist', legend=True, grid=True) # DA107.3 Mon30.09. Krystyna Live Session\n"
   ]
  },
  {
   "cell_type": "code",
   "execution_count": 395,
   "metadata": {},
   "outputs": [
    {
     "name": "stdout",
     "output_type": "stream",
     "text": [
      "mean      37.591615\n",
      "median    15.200000\n",
      "Name: co2_emission, dtype: float64\n",
      "mean      37.591615\n",
      "median    15.200000\n",
      "Name: co2_emission, dtype: float64\n"
     ]
    },
    {
     "name": "stderr",
     "output_type": "stream",
     "text": [
      "/var/folders/9l/hrrtsvvx7_v1n1nd2s2h8k4r0000gn/T/ipykernel_30256/2526333328.py:8: FutureWarning: The provided callable <function mean at 0x12046f380> is currently using Series.mean. In a future version of pandas, the provided callable will be used directly. To keep current behavior pass the string \"mean\" instead.\n",
      "  print(rice_consumption['co2_emission'].agg([np.mean, np.median])) # NumPy function\n",
      "/var/folders/9l/hrrtsvvx7_v1n1nd2s2h8k4r0000gn/T/ipykernel_30256/2526333328.py:8: FutureWarning: The provided callable <function median at 0x120683e20> is currently using Series.median. In a future version of pandas, the provided callable will be used directly. To keep current behavior pass the string \"median\" instead.\n",
      "  print(rice_consumption['co2_emission'].agg([np.mean, np.median])) # NumPy function\n"
     ]
    }
   ],
   "source": [
    "# Instructions 3/4:\n",
    "\n",
    "''' Use .agg() to calculate the mean and median of co2_emission for rice. '''\n",
    "# Subset for food_category equals rice\n",
    "rice_consumption = food_consumption[food_consumption['food_category'] == 'rice']\n",
    "\n",
    "# Calculate mean and median of co2_emission with .agg()\n",
    "print(rice_consumption['co2_emission'].agg([np.mean, np.median])) # NumPy function\n",
    "print(rice_consumption['co2_emission'].agg([pd.Series.mean, pd.Series.median])) # Pandas method\n"
   ]
  },
  {
   "cell_type": "markdown",
   "metadata": {},
   "source": [
    "#### Exercise 1.08: Variance and standard deviation ####\n",
    "Variance and standard deviation are two of the most common ways to measure the spread \n",
    "of a variable, and you'll practice calculating these in this exercise. \n",
    "Spread is important since it can help inform expectations. \n",
    "\n",
    "For example, if a salesperson sells a mean of 20 products a day, \n",
    "but has a standard deviation of 10 products, there will probably be days where they sell\n",
    "40 products, but also days where they only sell one or two. \n",
    "\n",
    "Information like this is important, especially when making predictions.\n",
    "\n",
    "pandas has been imported as pd, numpy as np, and matplotlib.pyplot as plt; \n",
    "the food_consumption DataFrame is also available."
   ]
  },
  {
   "cell_type": "code",
   "execution_count": 396,
   "metadata": {},
   "outputs": [
    {
     "name": "stdout",
     "output_type": "stream",
     "text": [
      "                        var         std\n",
      "food_category                          \n",
      "beef           88748.408132  297.906710\n",
      "dairy          17671.891985  132.935669\n",
      "eggs              21.371819    4.622966\n",
      "fish             921.637349   30.358481\n",
      "lamb_goat      16475.518363  128.356996\n",
      "nuts              35.639652    5.969895\n",
      "pork            3094.963537   55.632396\n",
      "poultry          245.026801   15.653332\n",
      "rice            2281.376243   47.763754\n",
      "soybeans           0.879882    0.938020\n",
      "wheat             71.023937    8.427570\n",
      "                        var         std\n",
      "food_category                          \n",
      "beef           88748.408132  297.906710\n",
      "dairy          17671.891985  132.935669\n",
      "eggs              21.371819    4.622966\n",
      "fish             921.637349   30.358481\n",
      "lamb_goat      16475.518363  128.356996\n",
      "nuts              35.639652    5.969895\n",
      "pork            3094.963537   55.632396\n",
      "poultry          245.026801   15.653332\n",
      "rice            2281.376243   47.763754\n",
      "soybeans           0.879882    0.938020\n",
      "wheat             71.023937    8.427570\n"
     ]
    },
    {
     "name": "stderr",
     "output_type": "stream",
     "text": [
      "/var/folders/9l/hrrtsvvx7_v1n1nd2s2h8k4r0000gn/T/ipykernel_30256/83063484.py:7: FutureWarning: The provided callable <function var at 0x12046f600> is currently using SeriesGroupBy.var. In a future version of pandas, the provided callable will be used directly. To keep current behavior pass the string \"var\" instead.\n",
      "  print(food_consumption.groupby('food_category')['co2_emission'].agg([np.var, np.std])) # NumPy function\n",
      "/var/folders/9l/hrrtsvvx7_v1n1nd2s2h8k4r0000gn/T/ipykernel_30256/83063484.py:7: FutureWarning: The provided callable <function std at 0x12046f4c0> is currently using SeriesGroupBy.std. In a future version of pandas, the provided callable will be used directly. To keep current behavior pass the string \"std\" instead.\n",
      "  print(food_consumption.groupby('food_category')['co2_emission'].agg([np.var, np.std])) # NumPy function\n"
     ]
    }
   ],
   "source": [
    "# Instructions 1/4:\n",
    "\n",
    "''' Calculate the variance and standard deviation of co2_emission for each food_category\n",
    " with the .groupby() and .agg() methods; compare the values of variance and \n",
    " standard deviation. ''' \n",
    "# Print variance and sd of co2_emission for each food_category\n",
    "print(food_consumption.groupby('food_category')['co2_emission'].agg([np.var, np.std])) # NumPy function \n",
    "print(food_consumption.groupby('food_category')['co2_emission'].agg([pd.Series.var, pd.Series.std])) # Pandas method\n"
   ]
  },
  {
   "cell_type": "code",
   "execution_count": 397,
   "metadata": {},
   "outputs": [
    {
     "data": {
      "text/plain": [
       "<Axes: ylabel='Frequency'>"
      ]
     },
     "execution_count": 397,
     "metadata": {},
     "output_type": "execute_result"
    },
    {
     "data": {
      "image/png": "[encoded data removed]",
      "text/plain": [
       "<Figure size 640x480 with 1 Axes>"
      ]
     },
     "metadata": {},
     "output_type": "display_data"
    }
   ],
   "source": [
    "\n",
    "'''Create a histogram of co2_emission for the beef in food_category and show the plot.'''\n",
    "# Create a histogram of co2_emission for the beef in food_category and show the plot.\n",
    "food_consumption[food_consumption['food_category'] == 'beef']['co2_emission'].hist()\n",
    "#plt.show()\n",
    "food_consumption[food_consumption['food_category'] == 'beef']['co2_emission'].plot(kind='hist', legend=True, grid=True)\n",
    "\n",
    "'''Create a histogram of co2_emission for the eggs in food_category and show the plot.'''\n",
    "# Create histogram of co2_emission for food_category 'eggs'\n",
    "food_consumption[food_consumption['food_category'] == 'eggs']['co2_emission'].plot(kind='hist', legend=True, grid=True)\n",
    "\n"
   ]
  },
  {
   "cell_type": "markdown",
   "metadata": {},
   "source": [
    "#### Exercise 1.09: Quartiles, quantiles, and quintiles ####\n",
    "Quantiles are a great way of summarizing numerical data since they can be used to \n",
    "measure center and spread, as well as to get a sense of where a data point stands in \n",
    "relation to the rest of the data set. For example, you might want to give a discount to \n",
    "the 10% most active users on a website.\n",
    "\n",
    "In this exercise, you'll calculate quartiles, quintiles, and deciles, \n",
    "which split up a dataset into 4, 5, and 10 pieces, respectively.\n",
    "\n",
    "Both pandas as pd and numpy as np are loaded and food_consumption is available."
   ]
  },
  {
   "cell_type": "code",
   "execution_count": 398,
   "metadata": {},
   "outputs": [
    {
     "name": "stdout",
     "output_type": "stream",
     "text": [
      "0.25     5.2100\n",
      "0.50    16.5300\n",
      "0.75    62.5975\n",
      "Name: co2_emission, dtype: float64\n",
      "[ 5.21   16.53   62.5975]\n",
      "[   0.        5.21     16.53     62.5975 1712.    ]\n"
     ]
    }
   ],
   "source": [
    "# Instructions 1/4:\n",
    "\n",
    "''' 1. Calculate the quartiles of the co2_emission column of food_consumption.'''\n",
    "# Calculate the quartiles of co2_emission\n",
    "print(food_consumption['co2_emission'].quantile([0.25, 0.5, 0.75])) # Pandas method\n",
    "print(np.quantile(food_consumption['co2_emission'], [0.25, 0.5, 0.75])) # NumPy function\n",
    "\n",
    "print(np.quantile(food_consumption['co2_emission'], [0, 0.25, 0.5, 0.75, 1])) \n",
    "# DataCamp wants 0 and 1 also?\n"
   ]
  },
  {
   "cell_type": "code",
   "execution_count": 399,
   "metadata": {},
   "outputs": [
    {
     "name": "stdout",
     "output_type": "stream",
     "text": [
      "[   0.       3.54    11.026   25.59    99.978 1712.   ]\n",
      "0.0       0.000\n",
      "0.2       3.540\n",
      "0.4      11.026\n",
      "0.6      25.590\n",
      "0.8      99.978\n",
      "1.0    1712.000\n",
      "Name: co2_emission, dtype: float64\n"
     ]
    }
   ],
   "source": [
    "''' 2. Calculate the six quantiles that split up the data into 5 pieces (quintiles) of the \n",
    "co2_emission column of food_consumption. '''\n",
    "# Calculate quintiles of co2_emission\n",
    "print(np.quantile(food_consumption['co2_emission'], [0, 0.2, 0.4, 0.6, 0.8, 1])) # NumPy function\n",
    "print(food_consumption['co2_emission'].quantile([0, 0.2, 0.4, 0.6, 0.8, 1])) # Pandas method\n"
   ]
  },
  {
   "cell_type": "code",
   "execution_count": 400,
   "metadata": {},
   "outputs": [
    {
     "name": "stdout",
     "output_type": "stream",
     "text": [
      "[0.00000e+00 6.68000e-01 3.54000e+00 7.04000e+00 1.10260e+01 1.65300e+01\n",
      " 2.55900e+01 4.42710e+01 9.99780e+01 2.03629e+02 1.71200e+03]\n",
      "0.0       0.000\n",
      "0.1       0.668\n",
      "0.2       3.540\n",
      "0.3       7.040\n",
      "0.4      11.026\n",
      "0.5      16.530\n",
      "0.6      25.590\n",
      "0.7      44.271\n",
      "0.8      99.978\n",
      "0.9     203.629\n",
      "1.0    1712.000\n",
      "Name: co2_emission, dtype: float64\n"
     ]
    }
   ],
   "source": [
    "\n",
    "''' 3. Calculate the eleven quantiles of co2_emission that split up the data into ten pieces (deciles). '''\n",
    "# Calculate deciles of co2_emission\n",
    "print(np.quantile(food_consumption['co2_emission'], np.linspace(0, 1, 11))) # NumPy function\n",
    "print(food_consumption['co2_emission'].quantile(np.linspace(0, 1, 11)))\n"
   ]
  },
  {
   "cell_type": "markdown",
   "metadata": {},
   "source": [
    "#### Exercise 1.10: Finding outliers using IQR ( Interquartile Range ) ####\n",
    "Outliers can have big effects on statistics like mean, as well as statistics \n",
    "that rely on the mean, such as variance and standard deviation. Interquartile range, \n",
    "or IQR, is another way of measuring spread that's less influenced by outliers. \n",
    "IQR is also often used to find outliers. If a value is less than Q1 - 1.5 x IQR or \n",
    "greater than Q3 + 1.5 x IQR, it's considered an outlier. In fact, this is how \n",
    "the lengths of the whiskers in a matplotlib box plot are calculated\n",
    "[https://campus.datacamp.com/courses/introduction-to-statistics-in-python/summary-statistics-1?ex=10]"
   ]
  },
  {
   "cell_type": "code",
   "execution_count": 401,
   "metadata": {},
   "outputs": [
    {
     "name": "stdout",
     "output_type": "stream",
     "text": [
      "country\n",
      "Albania      1777.85\n",
      "Algeria       707.88\n",
      "Angola        412.99\n",
      "Argentina    2172.40\n",
      "Armenia      1109.93\n",
      "              ...   \n",
      "Uruguay      1634.91\n",
      "Venezuela    1104.10\n",
      "Vietnam       641.51\n",
      "Zambia        225.30\n",
      "Zimbabwe      350.33\n",
      "Name: co2_emission, Length: 130, dtype: float64\n"
     ]
    }
   ],
   "source": [
    "''' In this exercise, you'll calculate IQR and use it to find some outliers. \n",
    "pandas as pd and numpy as np are loaded and food_consumption is available.'''\n",
    "\n",
    "# Instructions 1/4:\n",
    "\n",
    "''' Calculate the total co2_emission per country by grouping by country and \n",
    "taking the sum of co2_emission. Store the resulting DataFrame as emissions_by_country. ''' \n",
    "# Calculate total co2_emission per country: emissions_by_country\n",
    "emissions_by_country = food_consumption.groupby('country')['co2_emission'].sum()\n",
    "#emissions_by_country = food_consumption.groupby('country').agg({'co2_emission': 'sum'}) # Copilot suggestion\n",
    "print(emissions_by_country)\n"
   ]
  },
  {
   "cell_type": "code",
   "execution_count": 402,
   "metadata": {},
   "outputs": [
    {
     "name": "stdout",
     "output_type": "stream",
     "text": [
      "outliers = country\n",
      "Argentina    2172.4\n",
      "Name: co2_emission, dtype: float64\n"
     ]
    }
   ],
   "source": [
    "\n",
    "# Compute the first and third quartiles of emissions_by_country and store these as q1 and q3\n",
    "q1 = emissions_by_country.quantile(0.25)\n",
    "q3 = emissions_by_country.quantile(0.75)\n",
    "\n",
    "# Calculate the interquartile range of emissions_by_country and store it as iqr.\n",
    "iqr = q3 - q1\n",
    "\n",
    "# Calculate the lower and upper cutoffs for outliers of emissions_by_country, \n",
    "# and store these as lower and upper.\n",
    "lower = q1 - 1.5 * iqr\n",
    "upper = q3 + 1.5 * iqr\n",
    "\n",
    "# Subset emissions_by_country to get countries with a total emission greater than the \n",
    "# upper cutoff or a total emission less than the lower cutoff.\n",
    "outliers = emissions_by_country[(emissions_by_country < lower) | (emissions_by_country > upper)]\n",
    "print(f'outliers = {outliers}')\n"
   ]
  },
  {
   "cell_type": "markdown",
   "metadata": {},
   "source": [
    "## Chapter 2: Random Numbers and Probability ##\n",
    "In this chapter, you'll learn how to generate random samples and measure chance using probability. You'll work with real-world sales data to calculate the probability of a salesperson being successful. Finally, you’ll use the binomial distribution to model events with binary outcomes."
   ]
  },
  {
   "cell_type": "markdown",
   "metadata": {},
   "source": [
    "#### Video Lesson 2.01: What are the chances? ####\n",
    "[https://campus.datacamp.com/courses/introduction-to-statistics-in-python/summary-statistics-1?ex=1]"
   ]
  },
  {
   "cell_type": "markdown",
   "metadata": {},
   "source": [
    "#### Exercise 2.02: Calculating probabilities ####\n",
    "You're in charge of the sales team, and it's time for performance reviews, starting with Amir. As part of the review, you want to randomly select a few of the deals that he's worked on over the past year so that you can look at them more deeply. Before you start selecting deals, you'll first figure out what the chances are of selecting certain deals.\n",
    "\n",
    "Recall that the probability of an event can be calculated by\n",
    "\n",
    "$$ P(event) = \\frac{\\text{n ways event can happen}}{\\text{total n of possible outcomes}} $$\n",
    "$$ P(heads) = \\frac{\\text{1 way to get heads}}{\\text{2 possible outcomes}} = \\frac{1}{2} = 50\\%\n",
    "$$\n",
    "Both pandas as pd and numpy as np are loaded and amir_deals is available."
   ]
  },
  {
   "cell_type": "code",
   "execution_count": 403,
   "metadata": {},
   "outputs": [
    {
     "name": "stdout",
     "output_type": "stream",
     "text": [
      "   Unnamed: 0    product   client status   amount  num_users\n",
      "0           1  Product F  Current    Won  7389.52         19\n",
      "1           2  Product C      New    Won  4493.01         43\n",
      "2           3  Product B      New    Won  5738.09         87\n",
      "3           4  Product I  Current    Won  2591.24         83\n",
      "4           5  Product E  Current    Won  6622.97         17\n",
      "(178, 6)\n",
      "178\n"
     ]
    }
   ],
   "source": [
    "amir_deals = pd.read_csv('/Users/zeal.v/Library/CloudStorage/OneDrive-Personal/1T/2024_Weiterbildung/Masterschool/DA107 Analytical Thinking/DA107.2 Statistics and Visualization/DA107.2 Introduction to Statistics in Python/DA107.2 DB/amir_deals.csv')\n",
    "print(amir_deals.head())\n",
    "print(amir_deals.shape)\n",
    "print(amir_deals.shape[0])  "
   ]
  },
  {
   "cell_type": "code",
   "execution_count": 404,
   "metadata": {},
   "outputs": [
    {
     "name": "stdout",
     "output_type": "stream",
     "text": [
      "product\n",
      "Product B    62\n",
      "Product D    40\n",
      "Product A    23\n",
      "Product C    15\n",
      "Product F    11\n",
      "Product H     8\n",
      "Product I     7\n",
      "Product E     5\n",
      "Product N     3\n",
      "Product G     2\n",
      "Product J     2\n",
      "Name: count, dtype: int64\n"
     ]
    }
   ],
   "source": [
    "''' Count the number of deals Amir worked on for each product type using \n",
    ".value_counts() and store in counts. '''\n",
    "counts = amir_deals['product'].value_counts()\n",
    "print(counts)\n"
   ]
  },
  {
   "cell_type": "code",
   "execution_count": 405,
   "metadata": {},
   "outputs": [
    {
     "name": "stdout",
     "output_type": "stream",
     "text": [
      "product\n",
      "Product B    0.348315\n",
      "Product D    0.224719\n",
      "Product A    0.129213\n",
      "Product C    0.084270\n",
      "Product F    0.061798\n",
      "Product H    0.044944\n",
      "Product I    0.039326\n",
      "Product E    0.028090\n",
      "Product N    0.016854\n",
      "Product G    0.011236\n",
      "Product J    0.011236\n",
      "Name: count, dtype: float64\n"
     ]
    }
   ],
   "source": [
    "\n",
    "'''Calculate the probability of selecting a deal for the different product types \n",
    "by dividing the counts by the total number of deals Amir worked on. \n",
    "Save this as probs.'''\n",
    "probs = counts / counts.sum() \n",
    "# or / amir_deals.shape[0]\n",
    "probs = counts / amir_deals.shape[0]\n",
    "print(probs) \n"
   ]
  },
  {
   "cell_type": "code",
   "execution_count": 406,
   "metadata": {},
   "outputs": [
    {
     "name": "stdout",
     "output_type": "stream",
     "text": [
      "0.08426966292134831\n",
      "0.08426966292134831\n"
     ]
    }
   ],
   "source": [
    "'''If you randomly select one of Amir's deals, what's the probability that \n",
    "the deal will involve Product C?'''\n",
    "print(probs['Product C']) # or counts['Product C'] / amir_deals.shape[0]\n",
    "print(counts['Product C'] / amir_deals.shape[0])"
   ]
  },
  {
   "cell_type": "markdown",
   "metadata": {},
   "source": [
    "### Exercise 2.04: Sampling deals ###\n",
    "In the previous exercise, you counted the deals Amir worked on. Now it's time to randomly pick five deals so that you can reach out to each customer and ask if they were satisfied with the service they received. You'll try doing this both with and without replacement.\n",
    "\n",
    "Additionally, you want to make sure this is done randomly and that it can be reproduced in case you get asked how you chose the deals, so you'll need to set the random seed before sampling from the deals.\n",
    "\n",
    "Both pandas as pd and numpy as np are loaded and amir_deals is available."
   ]
  },
  {
   "cell_type": "code",
   "execution_count": 407,
   "metadata": {},
   "outputs": [
    {
     "name": "stdout",
     "output_type": "stream",
     "text": [
      "     Unnamed: 0    product   client status   amount  num_users\n",
      "127         128  Product B  Current    Won  2070.25          7\n",
      "148         149  Product D  Current    Won  3485.48         52\n",
      "77           78  Product B  Current    Won  6252.30         27\n",
      "104         105  Product D  Current    Won  4110.98         39\n",
      "166         167  Product C      New   Lost  3779.86         11\n",
      "     Unnamed: 0    product   client status   amount  num_users\n",
      "133         134  Product D  Current    Won  5992.86         98\n",
      "101         102  Product H  Current    Won  5116.34         63\n",
      "110         111  Product B  Current    Won   696.88         44\n",
      "49           50  Product B  Current    Won  3488.36         79\n",
      "56           57  Product D  Current    Won  6820.84         42\n"
     ]
    }
   ],
   "source": [
    "''' Set the random seed to 24.'''\n",
    "np.random.seed(24)\n",
    "\n",
    "''' Take a sample of 5 deals without replacement and store them as \n",
    "sample_without_replacement.'''\n",
    "sample_without_replacement = amir_deals.sample(5) # default replace=False\n",
    "print(sample_without_replacement)\n",
    "\n",
    "'''Take a sample of 5 deals with replacement and save as sample_with_replacement.'''\n",
    "sample_with_replacement = amir_deals.sample(5, replace=True)\n",
    "print(sample_with_replacement) "
   ]
  },
  {
   "cell_type": "markdown",
   "metadata": {},
   "source": [
    "### Video Lesson 2.02: Discrete distributions ###\n",
    "[https://campus.datacamp.com/courses/introduction-to-statistics-in-python/random-numbers-and-probability-2?ex=5]"
   ]
  },
  {
   "cell_type": "markdown",
   "metadata": {},
   "source": [
    "### Exercise 2.02: Creating a probability distribution ###\n",
    "A new restaurant opened a few months ago, and the restaurant's management wants to optimize its seating space based on the size of the groups that come most often. On one night, there are 10 groups of people waiting to be seated at the restaurant, but instead of being called in the order they arrived, they will be called randomly. In this exercise, you'll investigate the probability of groups of different sizes getting picked first. Data on each of the ten groups is contained in the restaurant_groups DataFrame.\n",
    "\n",
    "Remember that expected value can be calculated by multiplying each possible outcome with its corresponding probability and taking the sum. The restaurant_groups data is available. pandas is loaded as pd, numpy is loaded as np, and matplotlib.pyplot is loaded as plt."
   ]
  },
  {
   "cell_type": "code",
   "execution_count": 408,
   "metadata": {},
   "outputs": [
    {
     "name": "stdout",
     "output_type": "stream",
     "text": [
      "  group_id  group_size\n",
      "0        A           2\n",
      "1        B           4\n",
      "2        C           6\n",
      "3        D           2\n",
      "4        E           2\n",
      "5        F           2\n",
      "6        G           2\n",
      "7        H           3\n",
      "8        I           2\n",
      "9        J           4\n"
     ]
    }
   ],
   "source": [
    "grup_id = ('A', 'B', 'C', 'D', 'E', 'F', 'G', 'H', 'I', 'J')\n",
    "group_size = (2, 4, 6, 2, 2, 2, 2, 3, 2, 4)\n",
    "\n",
    "''' Create a DataFrame with the columns 'group_id' and 'group_size'. '''\n",
    "restaurant_groups = pd.DataFrame({'group_id': grup_id, 'group_size': group_size})\n",
    "print(restaurant_groups)"
   ]
  },
  {
   "cell_type": "code",
   "execution_count": 409,
   "metadata": {},
   "outputs": [
    {
     "data": {
      "image/png": "[encoded data removed]",
      "text/plain": [
       "<Figure size 640x480 with 1 Axes>"
      ]
     },
     "metadata": {},
     "output_type": "display_data"
    },
    {
     "data": {
      "text/plain": [
       "<Axes: title={'center': 'Group Size Distribution'}, xlabel='Group Size', ylabel='Frequency'>"
      ]
     },
     "execution_count": 409,
     "metadata": {},
     "output_type": "execute_result"
    },
    {
     "data": {
      "image/png": "[encoded data removed]",
      "text/plain": [
       "<Figure size 640x480 with 1 Axes>"
      ]
     },
     "metadata": {},
     "output_type": "display_data"
    }
   ],
   "source": [
    "# Instructions 1/4\n",
    "''' 1. Create a histogram of the group_size column of restaurant_groups, \n",
    "setting bins to [2, 3, 4, 5, 6]. Remember to show the plot.'''\n",
    "\n",
    "# Create a histogram of restaurant_groups and show plot\n",
    "restaurant_groups['group_size'].hist(bins=[2, 3, 4, 5, 6])\n",
    "plt.show()\n",
    "restaurant_groups['group_size'].plot(kind='hist'\n",
    "                                     , bins=[2, 3, 4, 5, 6]\n",
    "                                     , legend=True\n",
    "                                     , grid=True\n",
    "                                     , title='Group Size Distribution'\n",
    "                                     , xlabel='Group Size'\n",
    "                                     , ylabel='Frequency'\n",
    "                                     )\n"
   ]
  },
  {
   "cell_type": "code",
   "execution_count": 410,
   "metadata": {},
   "outputs": [
    {
     "name": "stdout",
     "output_type": "stream",
     "text": [
      "   group_size  prob\n",
      "0           2   0.6\n",
      "1           4   0.2\n",
      "2           6   0.1\n",
      "3           3   0.1\n"
     ]
    }
   ],
   "source": [
    "# Instructions 2/4\n",
    "''' 2. Count the number of each group_size in restaurant_groups, \n",
    "then divide by the number of rows in restaurant_groups \n",
    "to calculate the probability of randomly selecting a group of each size. \n",
    "- Save as size_dist.\n",
    "- Reset the index of size_dist.\n",
    "- Rename the columns of size_dist to group_size and prob.'''\n",
    "\n",
    "'''Create probability distribution:'''\n",
    "size_dist = restaurant_groups['group_size'].value_counts() / restaurant_groups.shape[0]\n",
    "# restaurant_groups.shape[0] gives the number of rows in the DataFrame \n",
    "size_dist = restaurant_groups['group_size'].value_counts() / len(restaurant_groups)\n",
    "# or len(restaurant_groups) \n",
    "size_dist = restaurant_groups['group_size'].value_counts() / restaurant_groups['group_size'].count()\n",
    "# or restaurant_groups['group_size'].count()\n",
    "\n",
    "''' Reset index and rename columns: '''\n",
    "# Reset the index of size_dist.\n",
    "size_dist = size_dist.reset_index()\n",
    "\n",
    "#Rename the columns of size_dist to group_size and prob.\n",
    "size_dist.columns = ['group_size', 'prob']\n",
    "\n",
    "# Print the updated DataFrame\n",
    "print(size_dist)\n"
   ]
  },
  {
   "cell_type": "code",
   "execution_count": 411,
   "metadata": {},
   "outputs": [
    {
     "name": "stdout",
     "output_type": "stream",
     "text": [
      "2.9000000000000004\n"
     ]
    }
   ],
   "source": [
    "# Instructions 3/4\n",
    "'''Calculate the expected value of the size_dist, which represents the \n",
    "expected group size, by multiplying the group_size by the prob and taking the sum.'''\n",
    "\n",
    "# Calculate expected value\n",
    "expected_value = np.sum(size_dist['group_size'] * size_dist['prob']) # NumPy function\n",
    "expected_value = (size_dist['group_size'] * size_dist['prob']).sum() # Pandas method\n",
    "print(expected_value)\n"
   ]
  },
  {
   "cell_type": "code",
   "execution_count": 412,
   "metadata": {},
   "outputs": [
    {
     "name": "stdout",
     "output_type": "stream",
     "text": [
      "0.30000000000000004\n"
     ]
    }
   ],
   "source": [
    "# Instructions 4/4\n",
    "'''Calculate the probability of randomly picking a group of 4 or more people by \n",
    "subsetting for groups of size 4 or more and summing the probabilities of selecting \n",
    "those groups.'''\n",
    "\n",
    "# Subset groups of size 4 or more\n",
    "groups_4_or_more = restaurant_groups[restaurant_groups['group_size'] >= 4]\n",
    "\n",
    "# Sum the probabilities of groups_4_or_more\n",
    "prob_4_or_more = size_dist[size_dist['group_size'] >= 4]['prob'].sum()\n",
    "print(prob_4_or_more)      \n"
   ]
  },
  {
   "cell_type": "markdown",
   "metadata": {},
   "source": [
    "### Video Lesson 2.09: Continuous distributions ###\n",
    "[https://campus.datacamp.com/courses/introduction-to-statistics-in-python/random-numbers-and-probability-2?ex=9]\n"
   ]
  },
  {
   "cell_type": "markdown",
   "metadata": {},
   "source": [
    "### Exercise 2.11: Data back-ups ###\n",
    "The sales software used at your company is set to automatically back itself up, but no one knows exactly what time the back-ups happen. It is known, however, that back-ups happen exactly every 30 minutes. Amir comes back from sales meetings at random times to update the data on the client he just met with. He wants to know how long he'll have to wait for his newly-entered data to get backed up. Use your new knowledge of continuous uniform distributions to model this situation and answer Amir's questions.\n"
   ]
  },
  {
   "cell_type": "code",
   "execution_count": 413,
   "metadata": {},
   "outputs": [
    {
     "name": "stdout",
     "output_type": "stream",
     "text": [
      "0.16666666666666666\n"
     ]
    }
   ],
   "source": [
    "''' 1. To model how long Amir will wait for a back-up using a continuous uniform distribution, \n",
    "save his lowest possible wait time as min_time and his longest possible wait time as \n",
    "max_time. Remember that back-ups happen every 30 minutes.'''\n",
    "# Min and max wait times for back-up that happens every 30 min\n",
    "min_time = 0\n",
    "max_time = 30\n",
    "\n",
    "''' 2. Import uniform from scipy.stats and calculate the probability that Amir has to wait \n",
    "less than 5 minutes, and store in a variable called prob_less_than_5. '''\n",
    "# Import uniform from scipy.stats\n",
    "from scipy.stats import uniform\n",
    "\n",
    "# Calculate probability of waiting less than 5 minutes\n",
    "prob_less_than_5 = uniform.cdf(5, min_time, max_time)\n",
    "print(prob_less_than_5)"
   ]
  },
  {
   "cell_type": "code",
   "execution_count": 414,
   "metadata": {},
   "outputs": [
    {
     "name": "stdout",
     "output_type": "stream",
     "text": [
      "0.8333333333333334\n"
     ]
    }
   ],
   "source": [
    "''' 3. Calculate the probability that Amir has to wait more than 5 minutes, \n",
    "and store in a variable called prob_greater_than_5.'''\n",
    "# Calculate probability of waiting more than 5 minutes\n",
    "prob_greater_than_5 = 1 - prob_less_than_5 \n",
    "prob_greater_than_5 = uniform.sf(5, min_time, max_time) # sf is the survival function, which is 1 - cdf\n",
    "# or uniform.sf(5, min_time, max_time)\n",
    "prob_greater_than_5 = 1 - uniform.cdf(5, min_time, max_time) # or 1 - cdf\n",
    "print(prob_greater_than_5)"
   ]
  },
  {
   "cell_type": "code",
   "execution_count": 415,
   "metadata": {},
   "outputs": [
    {
     "name": "stdout",
     "output_type": "stream",
     "text": [
      "0.3333333333333333\n"
     ]
    }
   ],
   "source": [
    "''' 4. Calculate the probability that Amir has to wait between 10 and 20 minutes, \n",
    "and store in a variable called prob_between_10_and_20.'''\n",
    "# Calculate probability of waiting between 10 and 20 minutes\n",
    "prob_between_10_and_20 = uniform.cdf(20, min_time, max_time\n",
    "                                     ) - uniform.cdf(10, min_time, max_time)\n",
    "print(prob_between_10_and_20)     "
   ]
  },
  {
   "cell_type": "markdown",
   "metadata": {},
   "source": [
    "### Exercise 2.11: Simulating wait times ###\n",
    "To give Amir a better idea of how long he'll have to wait, you'll simulate Amir waiting 1000 times and create a histogram to show him what he should expect. Recall from the last exercise that his minimum wait time is 0 minutes and his maximum wait time is 30 minutes.\n",
    "\n",
    "As usual, pandas as pd, numpy as np, and matplotlib.pyplot as plt are loaded."
   ]
  },
  {
   "cell_type": "code",
   "execution_count": 416,
   "metadata": {},
   "outputs": [],
   "source": [
    "''' 1. To give Amir a better idea of how long he'll have to wait, you'll simulate Amir \n",
    "waiting 1000 times and create a histogram to show him what he should expect. \n",
    "Recall from the last exercise that his minimum wait time is 0 minutes and his \n",
    "maximum wait time is 30 minutes.\n",
    "\n",
    "As usual, pandas as pd, numpy as np, and matplotlib.pyplot as plt are loaded. '''\n",
    "\n",
    "# Set random seed to 334\n",
    "np.random.seed(334)\n",
    "\n",
    "# Import uniform from scipy.stats.\n",
    "from scipy.stats import uniform"
   ]
  },
  {
   "cell_type": "code",
   "execution_count": 417,
   "metadata": {},
   "outputs": [
    {
     "name": "stdout",
     "output_type": "stream",
     "text": [
      "[ 7.144097    0.97455866  3.72802787  5.11644319  8.70602482 24.69140099\n",
      " 23.98012075  3.19592668 25.1985306  17.89048629 24.68695356 18.27160808\n",
      " 22.85829011  0.12929581 15.67789664  2.3262095  15.79151771 21.90473557\n",
      " 18.25817257 15.78657023 28.74328434  9.38971275 17.0010565   0.95433991\n",
      " 15.96917606  2.16395679  8.903302   19.24982156  6.52414731 14.10185677\n",
      " 27.86973455 14.38121016 28.59233824 13.17550521 22.96382405  2.52904371\n",
      "  6.2163781   8.40217036  4.48079914 28.16365298 19.73302715  3.63959282\n",
      "  1.74002295  1.5324219  26.97096908 29.37490861  4.71379092  6.44990488\n",
      "  6.81999564 22.81302458 12.41563042 11.14591581  8.08043184 29.60574053\n",
      "  3.24571518 19.66709277 13.38939302 29.56433707 24.84697258  6.249684\n",
      " 15.07668579  5.27474477 27.27430815  2.42084219 27.88317515  0.81231424\n",
      "  3.48564273 19.80738592  6.11128124 19.10323692  9.12156821 28.31696467\n",
      " 20.80158047 17.0840986  26.59969632 28.38502685 20.75398728 11.73610958\n",
      " 20.55950389 18.20349931  4.68857179 17.67638417 29.99091109 18.67756789\n",
      " 11.16391438  3.53028943 14.93882748 24.89203249 17.47310051 20.8740314\n",
      " 16.6070177  19.19564265  8.96414904  5.28451257  1.05350993 21.77737031\n",
      " 23.61684528 22.72809506 24.8322021  14.36218169  8.6091251  25.13656432\n",
      " 11.45898163 19.92575672 25.12266034  7.63273768  5.0240165  20.92435348\n",
      " 13.23933607  0.6401269  15.6813087  13.98669465  5.00961969 26.55407346\n",
      " 15.6478544   5.36392254 22.2807534  22.95452053 12.09657902 15.33347354\n",
      " 29.36367996 27.32761079 16.57775534 13.28054948 17.09693671 27.45768651\n",
      "  2.59501602  9.41004409  9.14688319 19.72368555  0.8399502   1.36535784\n",
      "  8.24745591 10.2650512  29.95498509 20.64562623  5.93986334 11.17818273\n",
      " 26.32817252  8.07638083  6.6348515  16.29376148 29.99092275 25.71567927\n",
      " 11.55546768 21.91960495 11.23343293 12.37874514 15.0825809  28.02838931\n",
      " 22.8535862   8.8911682  27.94808637 18.59880054 19.31673054  4.78414772\n",
      " 24.68245155  4.61858339  4.34185585  9.86285797 22.64196176 20.70638537\n",
      "  2.07610021 16.5432359   0.83932634 26.55708037 11.96557209  8.07255521\n",
      " 10.80342781 23.29099616 22.86574237 14.34997804  5.88657148 13.93691899\n",
      "  3.85622609 15.39470306 21.25310818 18.36870054  8.06383855 27.35806466\n",
      "  8.24616015 21.22703251 17.37235409  4.83719581 17.84253763  3.31270513\n",
      " 28.05979944 28.42309918  8.73094692 25.71299775  2.22366188  4.30187426\n",
      " 21.89436597 29.49072021 15.30664125 22.3802789   0.08102944 14.78896917\n",
      " 16.40399119  7.68390804  2.10437223  6.68794817 10.19108918 22.31258787\n",
      "  5.8189225  27.60781938 19.51339944 21.33124269  1.6294243  15.51174843\n",
      " 13.47212795 16.24027513 22.10266715  5.52406499  7.22056009  7.36829948\n",
      " 18.91081125 19.80927487 12.80401324  2.70031211 26.86102574 22.01951095\n",
      " 17.17665123 18.81827876  3.67837051 15.46293386 29.51597515 15.89595847\n",
      " 17.41855781 25.55857784 25.65737763 16.4151132   5.00323267 11.63197386\n",
      " 17.66808546 25.466024   15.18486451  0.85940046 27.00984537 14.42468181\n",
      " 27.4812224   9.47231537  2.05988889 17.30621667 24.95053845  5.57417231\n",
      " 16.0357139  13.26420998 29.46815429  1.16904392  4.53575356 10.65537707\n",
      " 11.26270564  6.0214732  27.64202445 10.29940068 28.54836132 22.22931556\n",
      " 17.55762098 28.31703818  3.20547158  6.51317017  9.60103128 11.55504752\n",
      "  1.10769737 25.19601111 26.41265999  3.17669809 29.03461951 23.78452941\n",
      " 22.35394515 18.03280452 11.23378656 25.18138124 23.9597556  10.58566727\n",
      "  2.56203807 16.32353266  8.34705721 21.65497161 27.82670318  3.24006097\n",
      "  9.48180202  1.48689026 12.89086955  0.84704402 21.10201173  9.14793573\n",
      " 27.17361576 18.45069642 14.49691685  3.98370201  0.44134824  5.05259221\n",
      " 18.47816542  8.11334339 19.95136747  7.1754582  20.10018729  4.97982617\n",
      "  8.81527565  5.76132824 15.72125645  4.76049255  4.76730185  4.54755451\n",
      " 11.99610604 22.19271804  7.0054561   0.9554475  12.72622458  5.10178612\n",
      "  3.46974455  7.75842307 13.13578589  3.8451399  11.02848319  5.77758805\n",
      " 16.19423275 23.15484726 20.1239129   8.50840771 10.91441361  7.11704929\n",
      " 20.25016912 28.69395694 20.42004446 24.35824921 24.56208344 18.70863082\n",
      "  1.55698104 27.49671811  2.57368945 23.03303579  2.38875615 13.98131955\n",
      " 21.8838685   8.44024292 25.05019036 21.95993093  8.76034493 22.85418651\n",
      " 26.07063198  5.46361622 25.58172855 15.67874872 17.81956733 26.81841668\n",
      " 13.19033546 23.19910687 23.62718492 13.15663104 23.41668296  1.87489683\n",
      " 25.2484807   8.4845543   4.92042842 22.73961665 20.2466653  19.58723259\n",
      "  2.03270822 22.9895573   7.3372969  17.54273192 21.09771191 16.96192787\n",
      "  3.48948107 16.15590988 17.70440831  1.60420151 19.81559878 25.80086106\n",
      " 15.68959678 18.83009183 23.19198615 12.66930187  7.00118096  6.64600958\n",
      " 19.87400439 19.55842619 25.54278522 14.27653959 12.0734572  22.78237983\n",
      " 17.15165279 24.08463516 28.59624819 28.16152099  5.93891699 16.94105605\n",
      " 20.80665928  9.99890108  8.79730012  7.05110922  3.8104523   5.62610024\n",
      "  5.58639014 18.78260685  9.95891585 20.62479473 28.77797774 25.81469814\n",
      "  2.25609181 13.65905187 21.1528068   8.01290913  7.73848867 26.88193447\n",
      " 21.44953343 10.12615075 19.75731318  4.27872352 20.30849315 26.77882578\n",
      "  1.351449   20.8075843   0.46173517 19.80997905  9.7624355  17.37924972\n",
      "  1.43062491 22.20157066 25.1824487  28.8357933  16.09702531 24.73842767\n",
      "  0.2308042   6.13048075 29.614561    8.33629603 16.12795224 29.21240454\n",
      " 13.45025092 28.92901674 28.68113999 18.76015795  8.85400148  0.72177506\n",
      " 18.5678127   1.5946721   6.51114298  0.14954964  8.40759558 15.3456776\n",
      " 18.16257912 21.48146244 19.35734786  6.69307887 11.14786018  5.19542535\n",
      " 20.11979092 15.36643858  1.75976538  1.88235419 14.67047828 17.87206607\n",
      " 23.89728101 11.53568193 19.55519337 12.9925055   3.75560435  8.84921298\n",
      " 10.41509647 10.05015649  2.08203941 13.95507535 18.69687686  3.65394569\n",
      " 16.73715719 25.9668531  19.90170356 10.66486523 27.98606183 19.33610382\n",
      " 27.37475735 24.1411498  28.39648506 10.56397635 17.67065935 19.81446104\n",
      "  5.08556252 21.61589418  4.91334443 10.25571404 13.86547777 28.5015485\n",
      " 19.52083861 22.05488912  9.17148377  1.11732389 18.30445657 13.80853\n",
      "  2.00270834 26.65687785  8.33324258 16.37203881 24.89846207  8.62610704\n",
      " 29.82242843 16.81338141 17.33734435  1.0612399  29.2449401   6.66842773\n",
      " 14.65276829 11.46127532  5.94042969  8.51718703 19.16192131 27.77484802\n",
      " 26.80478414 18.46459441 14.64021886 10.41881806  5.05273386 22.93123257\n",
      " 12.32037453 29.07333784 19.8933068  19.33393445 23.75624561 27.41576612\n",
      "  4.89400728 27.97022569  5.46431449 26.39553105 23.10148492  5.59326106\n",
      "  5.43438053 12.80881651 22.58136604  6.81522341  1.29891598  8.92824717\n",
      "  0.06222649  0.31415758  1.49504525 14.46068646 17.65853438  7.4496374\n",
      " 17.22446855 21.84287476 21.60599421 28.86047834 28.24253893  7.10948381\n",
      " 26.95417677 22.69920835 14.85402627  8.3681587  29.58708806 13.78486659\n",
      " 17.35864925 26.46297136 21.22739031 28.53046947  8.93805023  7.02914326\n",
      " 11.80133052 18.99940059 14.08892962  3.85612353 13.56279119 20.12274586\n",
      " 16.74078625 29.53044614  5.18316362 11.53812907 27.43654492  0.42476924\n",
      " 29.87062735  5.50874294  3.8568494   6.41204685 20.30702925  3.32308882\n",
      "  3.94770677  6.87059867  3.93014852 21.98204107  0.86507581 20.56982783\n",
      " 10.47517828  5.51681714 28.14377379 29.45286026 11.06512511 16.61676719\n",
      "  1.98579434  5.54260989  1.07592481  2.31764882  8.88290412 21.4881271\n",
      " 22.64224754  7.27994039  9.37643238 10.83908073  0.69663121 21.23717882\n",
      "  9.66027816 16.97956524 14.81638878 16.5534871   9.75601043  5.93087217\n",
      " 28.36797115 21.09462207 13.03173376  0.7983171   3.50516639 19.00649926\n",
      "  5.82081691  5.81833671 20.61983383 28.71056507  6.91237663 12.4619051\n",
      " 12.30761644 19.84040954  4.64447622  0.64917761 19.86567877  5.99418851\n",
      "  1.35794716 27.48067897 29.73644518 28.6065078   8.5299145   4.12152041\n",
      "  0.5607774  18.57081877 22.17373158  7.58966957 18.2784296  10.70211771\n",
      " 11.13177466 29.30678999  1.2423198  14.35713294 17.35500663 17.14866592\n",
      " 10.3789623  24.17742423 14.94162775  2.59992154 11.85508506 27.4947809\n",
      " 22.37927752 16.63597764  2.18654009 27.58998237 24.9960839  18.97091648\n",
      " 19.87097998 29.71143066 18.15641786  8.02594757 12.34873726  6.39950324\n",
      " 26.71285573  5.72013105 27.25611587 11.11118651 13.14563054 24.3161132\n",
      "  9.12227066  6.09164062  7.61512695 15.27894726  1.55172543 16.11462964\n",
      " 20.01927489  0.36023495 22.18975204 10.68017381 26.67207213 18.49390616\n",
      " 14.12316947 12.30157185 24.46937392  2.94349773  2.71721257 19.89328934\n",
      " 11.60564868 20.99716418  6.83938153  3.15126472 21.18057782 23.04084254\n",
      " 29.52319489 13.41468779  8.36540008  1.17474372 16.52320975 16.29079038\n",
      " 23.68058086  9.73990339 21.21125025 11.64009223  8.27581985 25.34508281\n",
      " 27.14020237 20.99498767 26.36379634 22.12460919 14.38182874 12.83843751\n",
      "  2.4921115   3.30654254 15.38775096  9.47486316 16.53719202 12.18243936\n",
      "  6.94896378  5.99117553 16.06222869  5.82268307 10.69273715  8.58678605\n",
      " 27.77414396  6.29565658 22.85039389 22.68722007  0.43084526 19.12501901\n",
      " 23.05647004  6.23804663 16.49611786 10.854354   12.4620608  26.2548841\n",
      " 19.76816626  6.54492209 28.71514653  7.80202629 16.96751571 11.15377563\n",
      " 22.80092952  5.09403519 24.00001246  8.21769557 13.53560859  2.94076629\n",
      "  4.02757203  8.96659938  6.86912639 12.0326642  27.15751025 15.4782868\n",
      "  7.22781653 17.19415714 10.47116023 21.49491811  5.4747806  26.51862933\n",
      " 26.16289208 29.74722369 26.5735013  16.7792301  15.31299374  5.97510684\n",
      " 14.539767    5.34494067  8.90650139 13.70810391  0.63137974  9.78624106\n",
      " 22.98898991 21.52163702  5.36747243  2.08048168  7.42243152 25.8369847\n",
      " 25.40242175 13.07497422 28.66966768 24.04491316 21.29637332  7.42492739\n",
      "  2.11604443 29.49179095  4.27645773  8.61358603 17.16555207 26.59803794\n",
      " 13.78944191 15.62067191  9.21670849 12.14562662 10.52617782 25.98579879\n",
      " 14.39787573  8.08763319 16.78552727 22.79597812  8.7695133  17.27072338\n",
      " 24.43151203 16.88485001 24.44534146 16.21756467 13.61941002 19.87394843\n",
      " 12.63576776 14.50185412 26.83264391  3.00081583 16.48057545  2.45212633\n",
      " 18.83439311 13.19865842  9.40766691 15.60923545  1.63933761 23.76828936\n",
      " 10.15252566  0.40447879 24.59292978  1.3675066   9.71814934 12.16659686\n",
      " 23.04867235 20.03414656  8.5168254  19.59414161  6.77825259  8.8070403\n",
      "  5.87152425  2.5970591   4.93086037 21.00689143 10.53794997  4.50059669\n",
      "  4.80161712 19.86587841 13.82231035 25.92370876 16.76861995 19.88191792\n",
      "  5.11770677 29.00105159 25.65446515  6.84179709 22.57233685  8.15577205\n",
      " 24.13735729  4.03149435  4.13231282 16.12464321 22.48533776 20.282976\n",
      "  5.74012718 22.43342651  2.60477234  3.21766129  5.65283575 28.84370986\n",
      " 23.65634284 21.7798963  16.85637734  0.61478999  4.53882038  4.65444933\n",
      "  9.04857098 19.63428333 15.00766938 17.76592972 21.46082362 25.77459268\n",
      " 19.85548771  8.20584755  8.47650143 21.69630957  3.13097349 10.20447772\n",
      " 29.66564838 23.56946713 26.2778947  23.81853285 10.81655255  6.05639951\n",
      "  2.85441413 19.56517693 23.71136826 20.36624573  6.59131157 23.74895849\n",
      " 22.42574624 10.31297875  6.60447634  5.37750477 29.10394928 12.33961909\n",
      " 14.61065264 27.83726115  5.16829978 19.01401557  5.2640168  10.30361904\n",
      " 24.32169445  3.18704573 25.06890427 26.01541021 13.94792952 21.25266832\n",
      " 25.93658805 16.80375076  1.50816509  2.64600638 13.47500562 15.08548187\n",
      " 14.90796765 20.88436957 22.53457433 15.84915157  8.86204958 27.73245412\n",
      " 11.22385246 15.78749796 15.91197569 22.37113884  3.19226887  4.65976517\n",
      "  9.30923397 10.77526643  3.97151627 29.28059273 29.27602822 20.71976894\n",
      " 18.60895651  4.29611269 23.93608872 22.58290622  4.47426371  7.2489746\n",
      " 15.22674952 27.63320022  8.78304562 28.40607909 17.1539386   2.61718331\n",
      " 10.65596075 29.8980006  29.91966885 27.34174997  0.61629001 15.17716754\n",
      "  9.90825324 16.72368794 12.96779625 10.46723235  1.79071474  4.91140186\n",
      "  0.71891742 27.83882355 26.95599526 19.63276655 25.02837667  6.70120501\n",
      " 27.8039181   3.93032514 29.20218039 20.45922096 18.39870488  6.64103042\n",
      " 15.9427296  29.26956198 29.75236465  6.24029179 10.9032813  25.74945237\n",
      " 19.34538144 16.31296664 10.93219849 10.70922385 21.19432171 10.39189311\n",
      "  1.8610141  24.11741202 25.59864155  0.68627027 15.7876837   1.10010957\n",
      "  3.47094738 27.61646738 10.07577678 19.84021078 27.29452887  8.52034156\n",
      "  5.181769   12.92311547 14.25423041 26.70151037 27.44545754 24.06119139\n",
      " 14.00076717  8.56031135 25.99043117 20.11722212]\n"
     ]
    }
   ],
   "source": [
    "\n",
    "''' 2. Generate 1000 wait times from the continuous uniform distribution that models \n",
    "Amir's wait time. Save this as wait_times.'''\n",
    "# Generate 1000 wait times between 0 and 30 mins\n",
    "wait_times = uniform.rvs(0, 30, size=1000) # rvs is random variates\n",
    "print(wait_times)"
   ]
  },
  {
   "cell_type": "code",
   "execution_count": 418,
   "metadata": {},
   "outputs": [
    {
     "data": {
      "text/plain": [
       "(array([33., 33., 31., 36., 33., 49., 37., 23., 51., 26., 38., 27., 24.,\n",
       "        32., 27., 34., 42., 30., 31., 43., 32., 33., 42., 26., 25., 31.,\n",
       "        29., 36., 30., 36.]),\n",
       " array([ 0.06222649,  1.05984969,  2.0574729 ,  3.05509611,  4.05271932,\n",
       "         5.05034253,  6.04796574,  7.04558895,  8.04321216,  9.04083537,\n",
       "        10.03845857, 11.03608178, 12.03370499, 13.0313282 , 14.02895141,\n",
       "        15.02657462, 16.02419783, 17.02182104, 18.01944425, 19.01706745,\n",
       "        20.01469066, 21.01231387, 22.00993708, 23.00756029, 24.0051835 ,\n",
       "        25.00280671, 26.00042992, 26.99805313, 27.99567633, 28.99329954,\n",
       "        29.99092275]),\n",
       " <BarContainer object of 30 artists>)"
      ]
     },
     "execution_count": 418,
     "metadata": {},
     "output_type": "execute_result"
    },
    {
     "data": {
      "image/png": "[encoded data removed]",
      "text/plain": [
       "<Figure size 640x480 with 1 Axes>"
      ]
     },
     "metadata": {},
     "output_type": "display_data"
    }
   ],
   "source": [
    "''' 3. Create a histogram of wait_times with 30 bins and show the plot.'''\n",
    "# Create a histogram of simulated times and show plot\n",
    "plt.hist(wait_times, bins=30)"
   ]
  },
  {
   "cell_type": "markdown",
   "metadata": {},
   "source": [
    "### Video Lesson 2.13: Binomial distributions ###\n",
    "[https://campus.datacamp.com/courses/introduction-to-statistics-in-python/random-numbers-and-probability-2?ex=13]"
   ]
  },
  {
   "cell_type": "markdown",
   "metadata": {},
   "source": [
    "### Exercise 2.14: Simulating sales deals ###\n",
    "Assume that Amir usually works on 3 deals per week, and overall, he wins 30% of deals he works on. Each deal has a binary outcome: it's either lost, or won, so you can model his sales deals with a binomial distribution. In this exercise, you'll help Amir simulate a year's worth of his deals so he can better understand his performance.\n",
    "\n",
    "numpy is imported as np."
   ]
  },
  {
   "cell_type": "code",
   "execution_count": 419,
   "metadata": {},
   "outputs": [],
   "source": [
    "# Instructions 4/4\n",
    "\n",
    "# Import binom from scipy.stats\n",
    "from scipy.stats import binom"
   ]
  },
  {
   "cell_type": "code",
   "execution_count": 420,
   "metadata": {},
   "outputs": [],
   "source": [
    "'''1. Set random seed to 10 '''\n",
    "np.random.seed(10)"
   ]
  },
  {
   "cell_type": "code",
   "execution_count": 421,
   "metadata": {},
   "outputs": [
    {
     "name": "stdout",
     "output_type": "stream",
     "text": [
      "1\n",
      "[0]\n"
     ]
    }
   ],
   "source": [
    "''' 2. Simulate 1 deal worked on by Amir, who wins 30% of the deals he works on.'''\n",
    "# Simulate a single deal\n",
    "print(binom.rvs(1, 0.3))\n",
    "print(binom.rvs(1, 0.3, size=1)) # size=1 is default and can be omitted"
   ]
  },
  {
   "cell_type": "code",
   "execution_count": 422,
   "metadata": {},
   "outputs": [
    {
     "name": "stdout",
     "output_type": "stream",
     "text": [
      "1\n"
     ]
    }
   ],
   "source": [
    "'''3. Simulate a typical week of Amir's deals, or one week of 3 deals.'''\n",
    "# Simulate 1 week of 3 deals\n",
    "print(binom.rvs(3, 0.3)) # rvs is random variates, size=1 is default"
   ]
  },
  {
   "cell_type": "code",
   "execution_count": 423,
   "metadata": {},
   "outputs": [
    {
     "name": "stdout",
     "output_type": "stream",
     "text": [
      "0.8461538461538461\n",
      "0.8461538461538461\n"
     ]
    }
   ],
   "source": [
    "'''4. Simulate a year's worth of Amir's deals, or 52 weeks of 3 deals each, \n",
    "and store in deals. Print the mean number of deals he won per week.'''\n",
    "# Simulate 52 weeks of 3 deals\n",
    "deals = binom.rvs(3, 0.3, size=52) # rvs is random variates\n",
    "print(np.mean(deals)) # NumPy function\n",
    "print(deals.mean()) # Pandas method"
   ]
  },
  {
   "cell_type": "markdown",
   "metadata": {},
   "source": [
    "### Exercise 2.15: Calculating binomial probabilities ###\n",
    "Just as in the last exercise, assume that Amir wins 30% of deals. He wants to get an idea of how likely he is to close a certain number of deals each week. In this exercise, you'll calculate what the chances are of him closing different numbers of deals using the binomial distribution.\n",
    "\n",
    "binom is imported from scipy.stats."
   ]
  },
  {
   "cell_type": "code",
   "execution_count": 424,
   "metadata": {},
   "outputs": [
    {
     "name": "stdout",
     "output_type": "stream",
     "text": [
      "0.026999999999999996\n"
     ]
    }
   ],
   "source": [
    "''' 1. What's the probability that Amir closes all 3 deals in a week? \n",
    "Save this as prob_3.'''\n",
    "# Probability of closing 3 out of 3 deals\n",
    "prob_3 = binom.pmf(3, 3, 0.3) # pmf is probability mass function\n",
    "print(prob_3)"
   ]
  },
  {
   "cell_type": "code",
   "execution_count": 425,
   "metadata": {},
   "outputs": [
    {
     "name": "stdout",
     "output_type": "stream",
     "text": [
      "0.784\n"
     ]
    }
   ],
   "source": [
    "'''2. What's the probability that Amir closes 1 or fewer deals in a week? \n",
    "Save this as prob_less_than_or_equal_1.'''\n",
    "# Probability of closing <= 1 deal out of 3 deals\n",
    "prob_less_than_or_equal_1 = binom.cdf(1, 3, 0.3) # cdf is cumulative distribution function\n",
    "print(prob_less_than_or_equal_1)"
   ]
  },
  {
   "cell_type": "code",
   "execution_count": 426,
   "metadata": {},
   "outputs": [
    {
     "name": "stdout",
     "output_type": "stream",
     "text": [
      "0.21599999999999994\n"
     ]
    }
   ],
   "source": [
    "''' 3. What's the probability that Amir closes more than 1 deal? \n",
    "Save this as prob_greater_than_1.'''\n",
    "# Probability of closing > 1 deal out of 3 deals\n",
    "prob_greater_than_1 = 1 - binom.cdf(1, 3, 0.3) # cdf is cumulative distribution function\n",
    "# or:\n",
    "prob_greater_than_1 = binom.sf(1, 3, 0.3) # sf is the survival function, which is 1 - cdf\n",
    "print(prob_greater_than_1)"
   ]
  },
  {
   "cell_type": "markdown",
   "metadata": {},
   "source": [
    "### Exercise 2.15: How many sales will be won? ###\n",
    "Now Amir wants to know how many deals he can expect to close each week if his win rate changes. Luckily, you can use your binomial distribution knowledge to help him calculate the expected value in different situations. \n",
    "\n",
    "Recall from the video that the expected value of a binomial distribution can be calculated by n x p:\n",
    "\n",
    "### Expected Value Calculation ###\n",
    "\n",
    "The **expected value** is a measure of the center of a probability distribution. It is calculated using the formula:\n",
    "\n",
    "$$ \\text{Expected value} = n \\times p $$\n",
    "\n",
    "where:\n",
    "- \\( n \\) is the number of trials\n",
    "- \\( p \\) is the probability of success in each trial\n",
    "\n",
    "In your example, the **expected number of heads** out of 10 flips of a fair coin (where \\( p = 0.5 \\)) is:\n",
    "\n",
    "$$ 10 \\times 0.5 = 5 $$\n",
    "\n",
    "So, the expected number of heads is **5**.\n"
   ]
  },
  {
   "cell_type": "code",
   "execution_count": 427,
   "metadata": {},
   "outputs": [
    {
     "name": "stdout",
     "output_type": "stream",
     "text": [
      "0.8999999999999999\n",
      "0.75\n",
      "1.0499999999999998\n"
     ]
    }
   ],
   "source": [
    "'''Calculate the expected number of sales out of the 3 he works on that Amir will \n",
    "win each week if he maintains his 30% win rate.'''\n",
    "# Expected number won with 30% win rate\n",
    "won_30pct = 3 * 0.3 # 3 deals * 30% win rate\n",
    "print(won_30pct)\n",
    "\n",
    "# Expected number won with 25% win rate\n",
    "won_25pct = 3 * 0.25 \n",
    "print(won_25pct)\n",
    "\n",
    "# Expected number won with 35% win rate\n",
    "won_35pct = 3 * 0.35\n",
    "print(won_35pct)"
   ]
  },
  {
   "cell_type": "markdown",
   "metadata": {},
   "source": [
    "## Chapter 3: More Distributions and the Central Limit Theorem ##\n",
    "It’s time to explore one of the most important probability distributions in statistics, normal distribution. You’ll create histograms to plot normal distributions and gain an understanding of the central limit theorem, before expanding your knowledge of statistical functions by adding the Poisson, exponential, and t-distributions to your repertoire.\n"
   ]
  },
  {
   "cell_type": "markdown",
   "metadata": {},
   "source": [
    "### Video Lesson 3.01: The normal distribution ###\n",
    "[https://campus.datacamp.com/courses/introduction-to-statistics-in-python/more-distributions-and-the-central-limit-theorem-3?ex=1]"
   ]
  },
  {
   "cell_type": "markdown",
   "metadata": {},
   "source": [
    "### Exercise 3.02: Distribution of Amir's sales ###\n",
    "Since each deal Amir worked on (both won and lost) was different, each was worth a different amount of money. These values are stored in the amount column of amir_deals As part of Amir's performance review, you want to be able to estimate the probability of him selling different amounts, but before you can do this, you'll need to determine what kind of distribution the amount variable follows.\n",
    "\n",
    "Both pandas as pd and matplotlib.pyplot as plt are loaded and amir_deals is available.\n",
    "\n"
   ]
  },
  {
   "cell_type": "code",
   "execution_count": 428,
   "metadata": {},
   "outputs": [
    {
     "name": "stdout",
     "output_type": "stream",
     "text": [
      "   Unnamed: 0    product   client status   amount  num_users\n",
      "0           1  Product F  Current    Won  7389.52         19\n",
      "1           2  Product C      New    Won  4493.01         43\n",
      "2           3  Product B      New    Won  5738.09         87\n",
      "3           4  Product I  Current    Won  2591.24         83\n",
      "4           5  Product E  Current    Won  6622.97         17\n"
     ]
    }
   ],
   "source": [
    "print(amir_deals.head(5))"
   ]
  },
  {
   "cell_type": "code",
   "execution_count": 429,
   "metadata": {},
   "outputs": [
    {
     "data": {
      "image/png": "[encoded data removed]",
      "text/plain": [
       "<Figure size 640x480 with 1 Axes>"
      ]
     },
     "metadata": {},
     "output_type": "display_data"
    },
    {
     "data": {
      "text/plain": [
       "<Axes: >"
      ]
     },
     "execution_count": 429,
     "metadata": {},
     "output_type": "execute_result"
    },
    {
     "data": {
      "image/png": "[encoded data removed]",
      "text/plain": [
       "<Figure size 640x480 with 1 Axes>"
      ]
     },
     "metadata": {},
     "output_type": "display_data"
    }
   ],
   "source": [
    "'''Create a histogram with 10 bins to visualize the distribution of the amount. \n",
    "Show the plot.'''\n",
    "# Histogram of amount with 10 bins and show plot\n",
    "plt.hist(amir_deals['amount'], bins=10)\n",
    "plt.show()\n",
    "amir_deals['amount'].hist(bins=10\n",
    "                          , legend=True\n",
    "                          , grid=True\n",
    "                          )\n"
   ]
  },
  {
   "cell_type": "markdown",
   "metadata": {},
   "source": [
    "### Exercise 3.03: Probabilities from the normal distribution ###\n",
    "Since each deal Amir worked on (both won and lost) was different, each was worth a different amount of money. These values are stored in the amount column of amir_deals and follow a normal distribution with a mean of 5000 dollars and a standard deviation of 2000 dollars. As part of his performance metrics, you want to calculate the probability of Amir closing a deal worth various amounts.\n",
    "\n",
    "norm from scipy.stats is imported as well as pandas as pd. The DataFrame amir_deals is loaded."
   ]
  },
  {
   "cell_type": "code",
   "execution_count": 430,
   "metadata": {},
   "outputs": [],
   "source": [
    "from scipy.stats import norm"
   ]
  },
  {
   "cell_type": "code",
   "execution_count": 431,
   "metadata": {},
   "outputs": [
    {
     "name": "stdout",
     "output_type": "stream",
     "text": [
      "0.20232838096364308\n",
      "1.0\n"
     ]
    },
    {
     "data": {
      "text/plain": [
       "'\\nn = 10000  # Example number of trials\\np = 0.3  # Example probability of success in each trial\\nprob_less_7500_binom = binom.cdf(7500, n, p)\\n'"
      ]
     },
     "execution_count": 431,
     "metadata": {},
     "output_type": "execute_result"
    }
   ],
   "source": [
    "''' 1. What's the probability of Amir closing a deal worth less than $7500?'''\n",
    "# Probability of deal < 7500\n",
    "prob_less_7500_norm = norm.cdf(7500, 10000, 3000) \n",
    "print(prob_less_7500_norm)\n",
    "'''\n",
    "mean = 10000  # Example mean\n",
    "std_dev = 3000  # Example standard deviation\n",
    "prob_less_7500_norm = norm.cdf(7500, mean, std_dev)\n",
    "'''\n",
    "\n",
    "prob_less_7500_binom = binom.cdf(7500, 10000, 0.3) # why copilot gives binom???\n",
    "print(prob_less_7500_binom)\n",
    "'''\n",
    "n = 10000  # Example number of trials\n",
    "p = 0.3  # Example probability of success in each trial\n",
    "prob_less_7500_binom = binom.cdf(7500, n, p)\n",
    "'''"
   ]
  },
  {
   "cell_type": "code",
   "execution_count": 432,
   "metadata": {},
   "outputs": [
    {
     "name": "stdout",
     "output_type": "stream",
     "text": [
      "0.9772498680518208\n",
      "1.0\n",
      "1.0\n"
     ]
    }
   ],
   "source": [
    "''' 2. What's the probability of Amir closing a deal worth more than $1000?'''\n",
    "# Probability of deal > 1000\n",
    "prob_over_1000_norm = 1 - norm.cdf(1000, 5000, 2000) # datacamp solution\n",
    "print(prob_over_1000_norm)\n",
    "\n",
    "prob_over_1000_binom = 1 - binom.cdf(1000, 10000, 0.3) # cdf is cumulative distribution function\n",
    "print(prob_over_1000_binom)\n",
    " # or binom.sf(1000, 10000, 0.3):\n",
    "\n",
    "prob_over_1000 = binom.sf(1000, 10000, 0.3) # sf is the survival function, which is 1 - cdf\n",
    "print(prob_over_1000)"
   ]
  },
  {
   "cell_type": "code",
   "execution_count": 433,
   "metadata": {},
   "outputs": [
    {
     "name": "stdout",
     "output_type": "stream",
     "text": [
      "0.6826894921370859\n"
     ]
    }
   ],
   "source": [
    "''' 3. What's the probability of Amir closing a deal worth between $3000 and $7000?'''\n",
    "# Probability of deal between 3000 and 7000\n",
    "# datacamp solution =\n",
    "prob_3000_to_7000 = norm.cdf(7000, 5000, 2000) - norm.cdf(3000, 5000, 2000) # cdf is cumulative distribution function\n",
    "print(prob_3000_to_7000)\n"
   ]
  },
  {
   "cell_type": "code",
   "execution_count": 434,
   "metadata": {},
   "outputs": [
    {
     "name": "stdout",
     "output_type": "stream",
     "text": [
      "3651.0204996078364\n"
     ]
    }
   ],
   "source": [
    "''' 4. What amount will 25% of Amir's sales be less than?'''\n",
    "# Calculate amount that 25% of deals will be less than\n",
    "amount_25pct = norm.ppf(0.25, 5000, 2000) # ppf is percent point function\n",
    "print(amount_25pct)"
   ]
  },
  {
   "cell_type": "code",
   "execution_count": 435,
   "metadata": {},
   "outputs": [
    {
     "data": {
      "text/plain": [
       "' +100 XP Nifty normal distribution usage! You know that you can count on \\nAmir 75% (1-0.25) of the time to make a sale worth at least $3651.02. \\nThis information could be useful in making company-wide sales projections. '"
      ]
     },
     "execution_count": 435,
     "metadata": {},
     "output_type": "execute_result"
    }
   ],
   "source": [
    "''' +100 XP Nifty normal distribution usage! You know that you can count on \n",
    "Amir 75% (1-0.25) of the time to make a sale worth at least $3651.02. \n",
    "This information could be useful in making company-wide sales projections. '''"
   ]
  },
  {
   "cell_type": "markdown",
   "metadata": {},
   "source": [
    "### Exercise 3.04: Simulating sales under new market conditions ###\n",
    "The company's financial analyst is predicting that next quarter, \n",
    "the worth of each sale will increase by 20% and the volatility, or standard deviation, \n",
    "of each sale's worth will increase by 30%. \n",
    "    To see what Amir's sales might look like next quarter under these new market conditions, you'll simulate new sales amounts \n",
    "using the normal distribution and store these in the new_sales DataFrame, \n",
    "which has already been created for you.\n",
    "In addition, norm from scipy.stats, pandas as pd, and matplotlib.pyplot as plt are loaded."
   ]
  },
  {
   "cell_type": "code",
   "execution_count": 436,
   "metadata": {},
   "outputs": [
    {
     "name": "stdout",
     "output_type": "stream",
     "text": [
      "<class 'numpy.ndarray'>\n",
      "[ 9333.91935505  5553.30600441  7501.91095461  2165.06531195\n",
      "  6204.84998285  8387.87549769  4718.9868617   6250.80216683\n",
      "  4302.82416681  5423.41766095  3222.4549308   2808.00065917\n",
      "  1323.71013736  4218.46091586  2334.34094346  9256.23634696\n",
      "  7220.86318259  6849.9962832  10702.21233656  2326.02320655\n",
      " 12560.59322126  6903.02628235  3692.8652671   3244.99516255\n",
      "  6904.67379809  1947.47242251  3412.89333119 12814.99654734\n",
      "  5113.69529814  5578.55519249  7125.69472068  5988.31700848\n",
      "  1151.72439375  4419.91276681 12809.72547686  7725.34167844]\n"
     ]
    }
   ],
   "source": [
    "''' 1. Currently, Amir's average sale amount is $5000. Calculate what his new \n",
    "average amount will be if it increases by 20% and store this in new_mean.'''\n",
    "# Calculate new average amount\n",
    "new_mean = 5000 * 1.2\n",
    "\n",
    "''' 2. Amir's current standard deviation is $2000. Calculate what his new \n",
    "standard deviation will be if it increases by 30% and store this in new_sd.'''\n",
    "# Calculate new standard deviation\n",
    "new_sd = 2000 * 1.3\n",
    "\n",
    "''' 3. Create a variable called new_sales, which contains 36 simulated amounts from \n",
    "a normal distribution with a mean of new_mean and a standard deviation of new_sd.'''\n",
    "# Simulate 36 new sales amounts\n",
    "new_sales = norm.rvs(new_mean, new_sd, size=36) # rvs is random variates\n",
    "print(type(new_sales))\n",
    "print(new_sales)\n"
   ]
  },
  {
   "cell_type": "code",
   "execution_count": 437,
   "metadata": {},
   "outputs": [
    {
     "data": {
      "image/png": "[encoded data removed]",
      "text/plain": [
       "<Figure size 640x480 with 1 Axes>"
      ]
     },
     "metadata": {},
     "output_type": "display_data"
    },
    {
     "ename": "AttributeError",
     "evalue": "'numpy.ndarray' object has no attribute 'plot'",
     "output_type": "error",
     "traceback": [
      "\u001b[0;31m---------------------------------------------------------------------------\u001b[0m",
      "\u001b[0;31mAttributeError\u001b[0m                            Traceback (most recent call last)",
      "Cell \u001b[0;32mIn[437], line 6\u001b[0m\n\u001b[1;32m      4\u001b[0m plt\u001b[38;5;241m.\u001b[39mshow()\n\u001b[1;32m      5\u001b[0m \u001b[38;5;66;03m# or \u001b[39;00m\n\u001b[0;32m----> 6\u001b[0m \u001b[43mnew_sales\u001b[49m\u001b[38;5;241;43m.\u001b[39;49m\u001b[43mplot\u001b[49m(kind\u001b[38;5;241m=\u001b[39m\u001b[38;5;124m'\u001b[39m\u001b[38;5;124mhist\u001b[39m\u001b[38;5;124m'\u001b[39m, legend\u001b[38;5;241m=\u001b[39m\u001b[38;5;28;01mTrue\u001b[39;00m, grid\u001b[38;5;241m=\u001b[39m\u001b[38;5;28;01mTrue\u001b[39;00m)\n\u001b[1;32m      8\u001b[0m \u001b[38;5;124;03m''' 5. Convert new_sales to a pandas Series and plot a histogram of the data.'''\u001b[39;00m\n\u001b[1;32m     11\u001b[0m \u001b[38;5;124;03m''' # Convert new_sales to a pandas Series / DataFrame and plot histogram\u001b[39;00m\n\u001b[1;32m     12\u001b[0m \u001b[38;5;124;03mnew_sales_series = pd.Series(new_sales)\u001b[39;00m\n\u001b[1;32m     13\u001b[0m \u001b[38;5;124;03mprint(type(new_sales_series))\u001b[39;00m\n\u001b[0;32m   (...)\u001b[0m\n\u001b[1;32m     20\u001b[0m \u001b[38;5;124;03mnew_sales_dataframe.hist(bins=10, legend=True, grid=True)\u001b[39;00m\n\u001b[1;32m     21\u001b[0m \u001b[38;5;124;03mprint(new_sales_dataframe.head()) '''\u001b[39;00m\n",
      "\u001b[0;31mAttributeError\u001b[0m: 'numpy.ndarray' object has no attribute 'plot'"
     ]
    }
   ],
   "source": [
    "''' 4. Plot the distribution of the new_sales amounts using a histogram and show the plot.'''\n",
    "# Create histogram and show\n",
    "plt.hist(new_sales) # bins=10 is default \n",
    "plt.show()\n",
    "# or \n",
    "new_sales.plot(kind='hist', legend=True, grid=True)\n",
    "\n",
    "''' 5. Convert new_sales to a pandas Series and plot a histogram of the data.'''\n",
    "\n",
    "\n",
    "''' # Convert new_sales to a pandas Series / DataFrame and plot histogram\n",
    "new_sales_series = pd.Series(new_sales)\n",
    "print(type(new_sales_series))\n",
    "new_sales_series.hist(bins=10, legend=True, grid=True)\n",
    "print(new_sales_series.head())\n",
    "\n",
    "\n",
    "new_sales_dataframe = pd.DataFrame(new_sales, columns=['new_sales'])\n",
    "print(type(new_sales_dataframe))\n",
    "new_sales_dataframe.hist(bins=10, legend=True, grid=True)\n",
    "print(new_sales_dataframe.head()) '''\n"
   ]
  },
  {
   "cell_type": "markdown",
   "metadata": {},
   "source": [
    "### Video Lesson 3.06: The cental limit theorem ###\n",
    "[https://campus.datacamp.com/courses/introduction-to-statistics-in-python/more-distributions-and-the-central-limit-theorem-3?ex=6]"
   ]
  },
  {
   "cell_type": "markdown",
   "metadata": {},
   "source": [
    "### Exercise 3.08: The CLT in action ###\n",
    "The central limit theorem states that a sampling distribution of a sample statistic approaches the normal distribution as you take more samples, no matter the original distribution being sampled from.\n",
    "\n",
    "In this exercise, you'll focus on the sample mean and see the central limit theorem in action while examining the num_users column of amir_deals more closely, which contains the number of people who intend to use the product Amir is selling.\n",
    "\n",
    "pandas as pd, numpy as np, and matplotlib.pyplot as plt are loaded and amir_deals is available."
   ]
  },
  {
   "cell_type": "code",
   "execution_count": 323,
   "metadata": {},
   "outputs": [
    {
     "name": "stdout",
     "output_type": "stream",
     "text": [
      "   Unnamed: 0    product   client status   amount  num_users\n",
      "0           1  Product F  Current    Won  7389.52         19\n",
      "1           2  Product C      New    Won  4493.01         43\n",
      "2           3  Product B      New    Won  5738.09         87\n",
      "3           4  Product I  Current    Won  2591.24         83\n",
      "4           5  Product E  Current    Won  6622.97         17\n",
      "['Product F' 'Product C' 'Product B' 'Product I' 'Product E' 'Product N'\n",
      " 'Product D' 'Product A' 'Product G' 'Product J' 'Product H']\n"
     ]
    }
   ],
   "source": [
    "print(amir_deals.head())\n",
    "print(amir_deals['product'].unique())"
   ]
  },
  {
   "cell_type": "code",
   "execution_count": 320,
   "metadata": {},
   "outputs": [
    {
     "name": "stdout",
     "output_type": "stream",
     "text": [
      "   Unnamed: 0    product   client status   amount  num_users\n",
      "0           1  Product F  Current    Won  7389.52         19\n",
      "1           2  Product C      New    Won  4493.01         43\n",
      "2           3  Product B      New    Won  5738.09         87\n",
      "3           4  Product I  Current    Won  2591.24         83\n",
      "4           5  Product E  Current    Won  6622.97         17\n"
     ]
    },
    {
     "data": {
      "text/plain": [
       "<Axes: title={'center': 'Distribution of Number of Users'}, xlabel='Number of Users', ylabel='Frequency'>"
      ]
     },
     "execution_count": 320,
     "metadata": {},
     "output_type": "execute_result"
    },
    {
     "data": {
      "image/png": "[encoded data removed]",
      "text/plain": [
       "<Figure size 640x480 with 1 Axes>"
      ]
     },
     "metadata": {},
     "output_type": "display_data"
    }
   ],
   "source": [
    "''' 1. Create a histogram of the num_users column of amir_deals and show the plot.'''\n",
    "# Histogram of num_users and show plot\n",
    "#amir_deals['num_users'].hist(bins=10, legend=True, grid=True) \n",
    "#plt.hist(amir_deals['num_users'], bins=10)\n",
    "\n",
    "amir_deals['num_users'].plot(kind='hist', bins=10, legend=True, grid=True\n",
    "                             , xlabel='Number of Users', ylabel='Frequency'\n",
    "                             , title='Distribution of Number of Users')"
   ]
  },
  {
   "cell_type": "code",
   "execution_count": 324,
   "metadata": {},
   "outputs": [
    {
     "name": "stdout",
     "output_type": "stream",
     "text": [
      "32.0\n"
     ]
    }
   ],
   "source": [
    "''' 2a. Set the seed to 104.'''\n",
    "np.random.seed(104) # Set random seed to 104\n",
    "\n",
    "''' 2b. Take a sample of size 20 with replacement from the num_users column of amir_deals'''\n",
    "# Sample 20 num_users with replacement from amir_deals\n",
    "samp_20 = amir_deals['num_users'].sample(20, replace=True) # default replace=True\n",
    "\n",
    "''' 2c. Take mean of samp_20 '''\n",
    "print(samp_20.mean()) # NumPy function"
   ]
  },
  {
   "cell_type": "code",
   "execution_count": 388,
   "metadata": {},
   "outputs": [
    {
     "name": "stdout",
     "output_type": "stream",
     "text": [
      "[np.float64(40.95), np.float64(32.6), np.float64(40.3), np.float64(21.85), np.float64(45.2), np.float64(37.2), np.float64(36.0), np.float64(46.35), np.float64(34.95), np.float64(34.5), np.float64(40.65), np.float64(40.55), np.float64(34.8), np.float64(38.95), np.float64(37.7), np.float64(29.3), np.float64(49.85), np.float64(42.8), np.float64(38.85), np.float64(35.4), np.float64(38.6), np.float64(44.25), np.float64(44.55), np.float64(42.9), np.float64(34.95), np.float64(36.3), np.float64(42.3), np.float64(47.7), np.float64(37.55), np.float64(36.8), np.float64(42.05), np.float64(45.7), np.float64(37.95), np.float64(41.55), np.float64(34.95), np.float64(32.45), np.float64(46.85), np.float64(37.15), np.float64(32.2), np.float64(35.25), np.float64(27.6), np.float64(32.4), np.float64(37.8), np.float64(44.0), np.float64(38.85), np.float64(35.6), np.float64(44.6), np.float64(39.8), np.float64(39.7), np.float64(32.6), np.float64(34.8), np.float64(31.1), np.float64(32.8), np.float64(24.5), np.float64(40.55), np.float64(34.25), np.float64(27.0), np.float64(36.45), np.float64(36.4), np.float64(52.1), np.float64(39.65), np.float64(35.85), np.float64(49.25), np.float64(39.75), np.float64(31.5), np.float64(34.2), np.float64(33.9), np.float64(47.55), np.float64(37.65), np.float64(26.45), np.float64(32.1), np.float64(35.9), np.float64(31.45), np.float64(46.2), np.float64(42.5), np.float64(32.8), np.float64(38.5), np.float64(37.65), np.float64(28.2), np.float64(28.95), np.float64(33.6), np.float64(33.35), np.float64(34.2), np.float64(28.25), np.float64(34.45), np.float64(46.5), np.float64(45.1), np.float64(52.25), np.float64(50.55), np.float64(39.4), np.float64(49.1), np.float64(35.3), np.float64(39.4), np.float64(40.2), np.float64(40.45), np.float64(35.9), np.float64(37.75), np.float64(36.4), np.float64(39.45), np.float64(38.65)]\n"
     ]
    },
    {
     "data": {
      "text/plain": [
       "list"
      ]
     },
     "execution_count": 388,
     "metadata": {},
     "output_type": "execute_result"
    }
   ],
   "source": [
    "''' 3. Repeat this 100 times using a for loop and store as sample_means. \n",
    "This will take 100 different samples and calculate the mean of each.'''\n",
    "sample_means = []\n",
    "# Loop 100 times\n",
    "for i in range(100):\n",
    "  # Take sample of 20 num_users\n",
    "  samp_20 = amir_deals['num_users'].sample(20, replace=True)\n",
    "  # Calculate mean of samp_20\n",
    "  samp_20_mean = samp_20.mean()\n",
    "  # Append samp_20_mean to sample_means\n",
    "  sample_means.append(samp_20_mean)\n",
    "  \n",
    "print(sample_means) \n",
    "type(sample_means)\n"
   ]
  },
  {
   "cell_type": "code",
   "execution_count": 328,
   "metadata": {},
   "outputs": [
    {
     "data": {
      "text/plain": [
       "' 1. Calculate the mean of the sample_means and store as mean_of_sample_means.'"
      ]
     },
     "execution_count": 328,
     "metadata": {},
     "output_type": "execute_result"
    },
    {
     "data": {
      "image/png": "[encoded data removed]",
      "text/plain": [
       "<Figure size 640x480 with 1 Axes>"
      ]
     },
     "metadata": {},
     "output_type": "display_data"
    }
   ],
   "source": [
    "'''Convert sample_means into a pd.Series, create a histogram of the sample_means, \n",
    "and show the plot.'''\n",
    "# Convert sample_means to a pandas Series\n",
    "sample_means_series = pd.Series(sample_means)\n",
    "\n",
    "# Create histogram of sample_means and show plot\n",
    "sample_means_series.plot(kind='hist', legend=True, grid=True\n",
    "                         , xlabel='Sample Means', ylabel='Frequency'\n",
    "                         , title='Distribution of Sample Means')"
   ]
  },
  {
   "cell_type": "markdown",
   "metadata": {},
   "source": [
    "### Exercise 3.09: The mean of means ###\n",
    "You want to know what the average number of users (num_users) is per deal, but you want to know this number for the entire company so that you can see if Amir's deals have more or fewer users than the company's average deal. The problem is that over the past year, the company has worked on more than ten thousand deals, so it's not realistic to compile all the data. Instead, you'll estimate the mean by taking several random samples of deals, since this is much easier than collecting data from everyone in the company.\n",
    "\n",
    "amir_deals is available and the user data for all the company's deals is available in all_deals. Both pandas as pd and numpy as np are loaded.\n"
   ]
  },
  {
   "cell_type": "code",
   "execution_count": null,
   "metadata": {},
   "outputs": [],
   "source": [
    "# Set seed to 321\n",
    "np.random.seed(321)\n",
    "\n",
    "'''Take 30 samples (with replacement) of size 20 from all_deals['num_users'] and \n",
    "take the mean of each sample. Store the sample means in sample_means.'''\n",
    "sample_means = []\n",
    "# Loop 30 times to take 30 means\n",
    "for i in range(30):\n",
    "  # Take sample of size 20 from num_users col of all_deals with replacement\n",
    "  cur_sample = all_deals['num_users'].sample(20, replace=True)\n",
    "  # Take mean of cur_sample\n",
    "  cur_mean = np.mean(cur_sample)\n",
    "  # Append cur_mean to sample_means\n",
    "  sample_means.append(cur_mean)\n",
    "\n",
    "'''Print the mean of sample_means.'''\n",
    "# Print mean of sample_means\n",
    "print(np.mean(sample_means))\n",
    "\n",
    "'''Print the mean of the num_users column of amir_deals.'''\n",
    "# Print mean of num_users in amir_deals\n",
    "print(np.mean(amir_deals['num_users']))"
   ]
  },
  {
   "cell_type": "markdown",
   "metadata": {},
   "source": [
    "### Video Lesson 3.10: The Poisson distribution ###\n",
    "[https://campus.datacamp.com/courses/introduction-to-statistics-in-python/more-distributions-and-the-central-limit-theorem-3?ex=10]"
   ]
  },
  {
   "cell_type": "markdown",
   "metadata": {},
   "source": []
  },
  {
   "cell_type": "markdown",
   "metadata": {},
   "source": [
    "### Exercise 3.12: Tracking lead responses ###\n",
    "Your company uses sales software to keep track of new sales leads. It organizes them into a queue so that anyone can follow up on one when they have a bit of free time. Since the number of lead responses is a countable outcome over a period of time, this scenario corresponds to a Poisson distribution. On average, Amir responds to 4 leads each day. \n",
    "\n",
    "In this exercise, you'll calculate probabilities of Amir responding to different numbers of leads.\n"
   ]
  },
  {
   "cell_type": "code",
   "execution_count": 332,
   "metadata": {},
   "outputs": [
    {
     "name": "stdout",
     "output_type": "stream",
     "text": [
      "0.1562934518505317\n"
     ]
    }
   ],
   "source": [
    "''' 1. Import poisson from scipy.stats and calculate the probability that Amir \n",
    "responds to 5 leads in a day, given that he responds to an average of 4.'''\n",
    "# Import poisson from scipy.stats\n",
    "from scipy.stats import poisson\n",
    "\n",
    "# Probability of 5 responses with average of 4\n",
    "prob_5 = poisson.pmf(5, 4) # pmf is probability mass function \n",
    "print(prob_5) # 0.1562934518505317"
   ]
  },
  {
   "cell_type": "markdown",
   "metadata": {},
   "source": [
    "In this function call:\n",
    "$5$ is the number of occurrences $(k)$.\n",
    "$4$ is the average rate $(\\lambda)$."
   ]
  },
  {
   "cell_type": "markdown",
   "metadata": {},
   "source": [
    "## The Poisson distribution explanation: ##\n",
    "\n",
    "The Poisson distribution is a discrete probability distribution that expresses the probability of a given number of events occurring in a fixed interval of time or space. These events must occur with a known constant mean rate and independently of the time since the last event.\n",
    "\n",
    "The probability mass function (PMF) of the Poisson distribution is given by:\n",
    "\n",
    "$$\n",
    "P(X = k) = \\frac{\\lambda^k e^{-\\lambda}}{k!}\n",
    "$$\n",
    "\n",
    "where:\n",
    "- \\( \\lambda \\) is the average number of events in the given interval (also known as the rate parameter),\n",
    "- \\( k \\) is the number of occurrences of the event,\n",
    "- \\( e \\) is the base of the natural logarithm (approximately equal to 2.71828),\n",
    "- \\( k! \\) is the factorial of \\( k \\).\n",
    "\n",
    "The mean and variance of the Poisson distribution are both equal to \\( \\lambda \\).\n",
    "'''))\n"
   ]
  },
  {
   "cell_type": "code",
   "execution_count": 334,
   "metadata": {},
   "outputs": [
    {
     "name": "stdout",
     "output_type": "stream",
     "text": [
      "0.17140068409793663\n"
     ]
    }
   ],
   "source": [
    "''' 2. Amir's coworker responds to an average of 5.5 leads per day. \n",
    "What is the probability that she answers 5 leads in a day?'''\n",
    "# Probability of 5 responses with average of 5.5\n",
    "prob_coworker = poisson.pmf(5, 5.5) # pmf is probability mass function\n",
    "print(prob_coworker) # 0.1403738958142805"
   ]
  },
  {
   "cell_type": "code",
   "execution_count": 335,
   "metadata": {},
   "outputs": [
    {
     "name": "stdout",
     "output_type": "stream",
     "text": [
      "0.2381033055535443\n"
     ]
    }
   ],
   "source": [
    "''' 3. What's the probability that Amir responds to 2 or fewer leads in a day?'''\n",
    "# Probability of 2 or fewer responses with average of 4\n",
    "prob_2_or_less = poisson.cdf(2, 4) # cdf is cumulative distribution function\n",
    "print(prob_2_or_less) # 0.23810330555354436"
   ]
  },
  {
   "cell_type": "code",
   "execution_count": 346,
   "metadata": {},
   "outputs": [
    {
     "name": "stdout",
     "output_type": "stream",
     "text": [
      "0.0028397661205137414\n"
     ]
    }
   ],
   "source": [
    "'''What's the probability that Amir responds to more than 10 leads in a day?'''\n",
    "# Probability of more than 10 responses with average of 4\n",
    "prob_over_10 = 1 - poisson.cdf(k=10, mu=4) # cdf is cumulative distribution function\n",
    "# or \n",
    "prob_over_10 = poisson.sf(k=10, mu=4) # sf is the survival function, which is 1 - cdf\n",
    "print(prob_over_10) # 0.01183824294096492"
   ]
  },
  {
   "cell_type": "markdown",
   "metadata": {},
   "source": [
    "( k ): This represents the number of events. It is the value at which the CDF is evaluated.\n",
    "\n",
    "( \\mu ): This is the average rate (mean) of events occurring in a fixed interval of time or space."
   ]
  },
  {
   "cell_type": "markdown",
   "metadata": {},
   "source": [
    "### Video Lesson 3.13: More probability distributions ###\n",
    "[https://campus.datacamp.com/courses/introduction-to-statistics-in-python/more-distributions-and-the-central-limit-theorem-3?ex=13]"
   ]
  },
  {
   "cell_type": "markdown",
   "metadata": {},
   "source": [
    "### Exercise 3.15: Modeling time between leads ###\n",
    "To further evaluate Amir's performance, you want to know how much time it takes him to respond to a lead after he opens it. On average, he responds to 1 request every 2.5 hours. \n",
    "\n",
    "In this exercise, you'll calculate probabilities of different amounts of time passing between Amir receiving a lead and sending a response."
   ]
  },
  {
   "cell_type": "code",
   "execution_count": 349,
   "metadata": {},
   "outputs": [
    {
     "name": "stdout",
     "output_type": "stream",
     "text": [
      "0.3296799539643607\n"
     ]
    }
   ],
   "source": [
    "''' 1. Import expon from scipy.stats. What's the probability it takes Amir \n",
    "less than an hour to respond to a lead? '''\n",
    "# Import expon from scipy.stats\n",
    "from scipy.stats import expon\n",
    "\n",
    "# Print probability response takes < 1 hour\n",
    "print(expon.cdf(1, scale=2.5)) # cdf is cumulative distribution function"
   ]
  },
  {
   "cell_type": "code",
   "execution_count": null,
   "metadata": {},
   "outputs": [],
   "source": [
    "'''What's the probability it takes Amir more than 4 hours to respond to a lead?'''\n",
    "# Print probability response takes > 4 hours\n",
    "print(1 - expon.cdf(4, scale=2.5)) # cdf is cumulative distribution function"
   ]
  },
  {
   "cell_type": "code",
   "execution_count": 350,
   "metadata": {},
   "outputs": [
    {
     "name": "stdout",
     "output_type": "stream",
     "text": [
      "0.09929769391754684\n"
     ]
    }
   ],
   "source": [
    "'''What's the probability it takes Amir 3-4 hours to respond to a lead?'''\n",
    "# Print probability response takes 3-4 hours\n",
    "print(expon.cdf(4, scale=2.5) - expon.cdf(3, scale=2.5)) # cdf is cumulative distribution function"
   ]
  },
  {
   "cell_type": "markdown",
   "metadata": {},
   "source": [
    "## Chapter 4: Correlation and Experimental Design ##\n",
    "In this chapter, you'll learn how to quantify the strength of a linear relationship between two variables, and explore how confounding variables can affect the relationship between two other variables. You'll also see how a study’s design can influence its results, change how the data should be analyzed, and potentially affect the reliability of your conclusions."
   ]
  },
  {
   "cell_type": "markdown",
   "metadata": {},
   "source": [
    "### Video Lesson 4.01: More probability distributions ###\n",
    "[https://campus.datacamp.com/courses/introduction-to-statistics-in-python/correlation-and-experimental-design-4?ex=1]"
   ]
  },
  {
   "cell_type": "markdown",
   "metadata": {},
   "source": [
    "### Exercise 4.03: Relationships between variables ###\n",
    "In this chapter, you'll be working with a dataset world_happiness containing results from the 2019 World Happiness Report. The report scores various countries based on how happy people in that country are. It also ranks each country on various societal aspects such as social support, freedom, corruption, and others. The dataset also includes the GDP per capita and life expectancy for each country.\n",
    "\n",
    "In this exercise, you'll examine the relationship between a country's life expectancy (life_exp) and happiness score (happiness_score) both visually and quantitatively. seaborn as sns, matplotlib.pyplot as plt, and pandas as pd are loaded and world_happiness is available."
   ]
  },
  {
   "cell_type": "code",
   "execution_count": 364,
   "metadata": {},
   "outputs": [
    {
     "name": "stdout",
     "output_type": "stream",
     "text": [
      "   Unnamed: 0      country  social_support  freedom  corruption  generosity  \\\n",
      "0           1      Finland             2.0      5.0         4.0        47.0   \n",
      "1           2      Denmark             4.0      6.0         3.0        22.0   \n",
      "2           3       Norway             3.0      3.0         8.0        11.0   \n",
      "3           4      Iceland             1.0      7.0        45.0         3.0   \n",
      "4           5  Netherlands            15.0     19.0        12.0         7.0   \n",
      "\n",
      "   gdp_per_cap  life_exp  happiness_score  \n",
      "0        42400      81.8              155  \n",
      "1        48300      81.0              154  \n",
      "2        66300      82.6              153  \n",
      "3        47900      83.0              152  \n",
      "4        50500      81.8              151  \n",
      "(143, 9)\n"
     ]
    }
   ],
   "source": [
    "world_happiness = pd.read_csv('/Users/zeal.v/Library/CloudStorage/OneDrive-Personal/1T/2024_Weiterbildung/Masterschool/DA107 Analytical Thinking/DA107.2 Statistics and Visualization/DA107.2 Introduction to Statistics in Python/DA107.2 DB/world_happiness.csv')\n",
    "print(world_happiness.head())\n",
    "print(world_happiness.shape)"
   ]
  },
  {
   "cell_type": "code",
   "execution_count": 362,
   "metadata": {},
   "outputs": [
    {
     "data": {
      "image/png": "[encoded data removed]",
      "text/plain": [
       "<Figure size 640x480 with 1 Axes>"
      ]
     },
     "metadata": {},
     "output_type": "display_data"
    }
   ],
   "source": [
    "''' 1. Create a scatterplot of happiness_score vs. life_exp (without a trendline) \n",
    "using seaborn. Show the plot.'''\n",
    "# Scatterplot of happiness_score vs. life_exp\n",
    "sns.scatterplot(data=world_happiness, x='life_exp', y='happiness_score')\n",
    "plt.show()"
   ]
  },
  {
   "cell_type": "code",
   "execution_count": 365,
   "metadata": {},
   "outputs": [
    {
     "data": {
      "image/png": "[encoded data removed]",
      "text/plain": [
       "<Figure size 640x480 with 1 Axes>"
      ]
     },
     "metadata": {},
     "output_type": "display_data"
    },
    {
     "data": {
      "image/png": "[encoded data removed]",
      "text/plain": [
       "<Figure size 500x500 with 1 Axes>"
      ]
     },
     "metadata": {},
     "output_type": "display_data"
    }
   ],
   "source": [
    "''' 2. Create a scatterplot of happiness_score vs. life_exp with a linear trendline using seaborn, setting ci to None.\n",
    "Show the plot.'''\n",
    "# Scatterplot of happiness_score vs. life_exp with trendline\n",
    "sns.regplot(data=world_happiness, x='life_exp', y='happiness_score', ci=None) # regplot is for regression plots\n",
    "# or \n",
    "sns.lmplot(data=world_happiness, x='life_exp', y='happiness_score', ci=None) # lmplot is for linear models\n",
    "plt.show()"
   ]
  },
  {
   "cell_type": "code",
   "execution_count": 363,
   "metadata": {},
   "outputs": [
    {
     "name": "stdout",
     "output_type": "stream",
     "text": [
      "0.7802249053272065\n"
     ]
    }
   ],
   "source": [
    "''' 4. Calculate the correlation between life_exp and happiness_score. Save this as cor.'''\n",
    "# Calculate correlation between life_exp and happiness_score\n",
    "cor = world_happiness['life_exp'].corr(world_happiness['happiness_score'])\n",
    "print(cor)"
   ]
  },
  {
   "cell_type": "markdown",
   "metadata": {},
   "source": [
    "### Video Lesson 4.04: Correlation caveats ###\n",
    "[https://campus.datacamp.com/courses/introduction-to-statistics-in-python/correlation-and-experimental-design-4?ex=4]"
   ]
  },
  {
   "cell_type": "markdown",
   "metadata": {},
   "source": [
    "### Exercise 4.05: What can't correlation measure? ###\n",
    "While the correlation coefficient is a convenient way to quantify the strength of a relationship between two variables, it's far from perfect. In this exercise, you'll explore one of the caveats of the correlation coefficient by examining the relationship between a country's GDP per capita (gdp_per_cap) and happiness score.\n",
    "\n",
    "pandas as pd, matplotlib.pyplot as plt, and seaborn as sns are imported, and world_happiness is loaded."
   ]
  },
  {
   "cell_type": "code",
   "execution_count": 366,
   "metadata": {},
   "outputs": [
    {
     "data": {
      "image/png": "[encoded data removed]",
      "text/plain": [
       "<Figure size 640x480 with 1 Axes>"
      ]
     },
     "metadata": {},
     "output_type": "display_data"
    }
   ],
   "source": [
    "''' 1. Create a seaborn scatterplot (without a trendline) showing the relationship \n",
    "between gdp_per_cap (on the x-axis) and life_exp (on the y-axis).'''\n",
    "# Scatterplot of gdp_per_cap vs. life_exp\n",
    "sns.scatterplot(data=world_happiness, x='gdp_per_cap', y='life_exp')\n",
    "plt.show()\n"
   ]
  },
  {
   "cell_type": "code",
   "execution_count": 367,
   "metadata": {},
   "outputs": [
    {
     "name": "stdout",
     "output_type": "stream",
     "text": [
      "0.7019547642148015\n"
     ]
    }
   ],
   "source": [
    "''' Calculate the correlation between gdp_per_cap and life_exp and store as cor. '''\n",
    "# Calculate correlation between gdp_per_cap and life_exp\n",
    "cor = world_happiness['gdp_per_cap'].corr(world_happiness['life_exp'])\n",
    "print(cor)\n"
   ]
  },
  {
   "cell_type": "markdown",
   "metadata": {},
   "source": [
    "### Exercise 4.06: Transforming variables ###\n",
    "When variables have skewed distributions, they often require a transformation in order to form a linear relationship with another variable so that correlation can be computed. In this exercise, you'll perform a transformation yourself.\n",
    "\n",
    "pandas as pd, numpy as np, matplotlib.pyplot as plt, and seaborn as sns are imported, and world_happiness is loaded."
   ]
  },
  {
   "cell_type": "code",
   "execution_count": 368,
   "metadata": {},
   "outputs": [
    {
     "data": {
      "image/png": "[encoded data removed]",
      "text/plain": [
       "<Figure size 640x480 with 1 Axes>"
      ]
     },
     "metadata": {},
     "output_type": "display_data"
    },
    {
     "name": "stdout",
     "output_type": "stream",
     "text": [
      "0.7279733012222978\n"
     ]
    }
   ],
   "source": [
    "''' Create a scatterplot of happiness_score versus gdp_per_cap and \n",
    "calculate the correlation between them.'''\n",
    "# Scatterplot of happiness_score vs. gdp_per_cap\n",
    "sns.scatterplot(data=world_happiness, x='gdp_per_cap', y='happiness_score')\n",
    "plt.show()\n",
    "\n",
    "# Calculate correlation between happiness_score and gdp_per_cap\n",
    "cor = world_happiness['happiness_score'].corr(world_happiness['gdp_per_cap'])\n",
    "print(cor)"
   ]
  },
  {
   "cell_type": "code",
   "execution_count": 375,
   "metadata": {},
   "outputs": [
    {
     "name": "stdout",
     "output_type": "stream",
     "text": [
      "   Unnamed: 0      country  social_support  freedom  corruption  generosity  \\\n",
      "0           1      Finland             2.0      5.0         4.0        47.0   \n",
      "1           2      Denmark             4.0      6.0         3.0        22.0   \n",
      "2           3       Norway             3.0      3.0         8.0        11.0   \n",
      "3           4      Iceland             1.0      7.0        45.0         3.0   \n",
      "4           5  Netherlands            15.0     19.0        12.0         7.0   \n",
      "\n",
      "   gdp_per_cap  life_exp  happiness_score  log_gdp_per_cap  \n",
      "0        42400      81.8              155        10.654904  \n",
      "1        48300      81.0              154        10.785187  \n",
      "2        66300      82.6              153        11.101945  \n",
      "3        47900      83.0              152        10.776871  \n",
      "4        50500      81.8              151        10.829729  \n"
     ]
    }
   ],
   "source": [
    "''' 2a Add a new column to world_happiness called log_gdp_per_cap that \n",
    "contains the log of gdp_per_cap.'''\n",
    "# Add log_gdp_per_cap column to world_happiness\n",
    "world_happiness['log_gdp_per_cap'] = np.log(world_happiness['gdp_per_cap']) \n",
    "# np.log is natural logarithm (base e)\n",
    "print(world_happiness.head())"
   ]
  },
  {
   "cell_type": "code",
   "execution_count": 376,
   "metadata": {},
   "outputs": [
    {
     "data": {
      "image/png": "[encoded data removed]",
      "text/plain": [
       "<Figure size 640x480 with 1 Axes>"
      ]
     },
     "metadata": {},
     "output_type": "display_data"
    }
   ],
   "source": [
    "''' 2b Create a seaborn scatterplot of happiness_score versus log_gdp_per_cap.'''\n",
    "# Scatterplot of happiness_score vs. log_gdp_per_cap\n",
    "sns.scatterplot(data=world_happiness, x='log_gdp_per_cap', y='happiness_score')\n",
    "plt.show() "
   ]
  },
  {
   "cell_type": "code",
   "execution_count": 371,
   "metadata": {},
   "outputs": [
    {
     "name": "stdout",
     "output_type": "stream",
     "text": [
      "0.8043146004918288\n"
     ]
    }
   ],
   "source": [
    "''' 2c Calculate the correlation between log_gdp_per_cap and happiness_score.'''\n",
    "# Calculate correlation between log_gdp_per_cap and happiness_score\n",
    "cor = world_happiness['log_gdp_per_cap'].corr(world_happiness['happiness_score']) \n",
    "# Pearson correlation\n",
    "print(cor) "
   ]
  },
  {
   "cell_type": "markdown",
   "metadata": {},
   "source": [
    "### Exercise 4.07: Does sugar improve happiness? ###\n",
    "A new column has been added to world_happiness called grams_sugar_per_day, which contains the average amount of sugar eaten per person per day in each country. In this exercise, you'll examine the effect of a country's average sugar consumption on its happiness score.\n",
    "\n",
    "pandas as pd, matplotlib.pyplot as plt, and seaborn as sns are imported, and world_happiness is loaded."
   ]
  },
  {
   "cell_type": "code",
   "execution_count": 381,
   "metadata": {},
   "outputs": [
    {
     "name": "stdout",
     "output_type": "stream",
     "text": [
      "143\n",
      "143\n",
      "   Unnamed: 0      country  social_support  freedom  corruption  generosity  \\\n",
      "0           1      Finland             2.0      5.0         4.0        47.0   \n",
      "1           2      Denmark             4.0      6.0         3.0        22.0   \n",
      "2           3       Norway             3.0      3.0         8.0        11.0   \n",
      "3           4      Iceland             1.0      7.0        45.0         3.0   \n",
      "4           5  Netherlands            15.0     19.0        12.0         7.0   \n",
      "\n",
      "   gdp_per_cap  life_exp  happiness_score  log_gdp_per_cap  \\\n",
      "0        42400      81.8              155        10.654904   \n",
      "1        48300      81.0              154        10.785187   \n",
      "2        66300      82.6              153        11.101945   \n",
      "3        47900      83.0              152        10.776871   \n",
      "4        50500      81.8              151        10.829729   \n",
      "\n",
      "   grams_sugar_per_day  \n",
      "0                 86.8  \n",
      "1                152.0  \n",
      "2                120.0  \n",
      "3                132.0  \n",
      "4                122.0  \n"
     ]
    }
   ],
   "source": [
    "'''Add a new column to world_happiness called grams_sugar_per_dayp that contains\n",
    "the average amount of sugar eaten per person per day in each country '''\n",
    "# Add grams_sugar_per_day column to world_happiness\n",
    "\n",
    "grams_sugar_per_day = [86.8, 152.0, 120.0, 132.0, 122.0, 166.0, 115.0, 162.0, 132.0, 124.0, 126.0, 144.0, 76.2, 141.0, 113.0, 126.0, 133.0, 144.0, 175.0, 118.0, 101.0, 168.0, 133.0, 107.0, 131.0, 132.0, 86.8, 85.6, 95.3, 117.0, 111.0, 113.0, 88.0, 162.0, 122.0, 27.6, 130.0, 160.0, 75.1, 116.0, 132.0, 70.1, 101.0, 63.3, 106.0, 109.0, 117.0, 105.0, 86.5, 135.0, 96.0, 74.2, 131.0, 78.4, 75.2, 95.0, 69.6, 62.9, 78.0, 76.0, 134.0, 64.6, 77.1, 64.6, 131.0, 51.9, 118.0, 95.3, 87.3, 121.0, 107.0, 80.3, 40.3, 29.4, 24.6, 78.2, 109.0, 50.5, 123.0, 46.5, 18.8, 27.4, 27.2, 78.7, 40.5, 13.0, 128.0, 21.4, 42.6, 101.0, 131.0, 106.0, 51.5, 50.0, 55.4, 14.5, 20.3, 97.4, 79.8, 27.2, 93.1, 72.2, 43.7, 99.2, 30.7, 95.5, 22.1, 52.8, 28.1, 16.5, 73.4, 46.2, 29.1, 126.0, 18.1, 95.3, 32.4, 78.0, 28.1, 33.3, 64.2, 15.5, 20.3, 45.5, 80.6, 45.8, 85.0, 22.6, 77.9, 14.1, 28.0, 24.5, 22.4, 45.5, 80.6, 45.8, 85.0, 22.6, 77.9, 14.1, 28.0, 24.5, 22.4]\n",
    "print(len(grams_sugar_per_day))\n",
    "print(world_happiness.shape[0])\n",
    "world_happiness['grams_sugar_per_day'] = grams_sugar_per_day\n",
    "print(world_happiness.head()) "
   ]
  },
  {
   "cell_type": "code",
   "execution_count": 385,
   "metadata": {},
   "outputs": [
    {
     "data": {
      "image/png": "[encoded data removed]",
      "text/plain": [
       "<Figure size 640x480 with 1 Axes>"
      ]
     },
     "metadata": {},
     "output_type": "display_data"
    }
   ],
   "source": [
    "''' 1a Create a seaborn scatterplot showing the relationship between \n",
    "grams_sugar_per_day (on the x-axis) and happiness_score (on the y-axis).'''\n",
    "# Scatterplot of grams_sugar_per_day vs. happiness_score\n",
    "sns.scatterplot(data=world_happiness, x='grams_sugar_per_day', y='happiness_score')\n",
    "plt.show()"
   ]
  },
  {
   "cell_type": "code",
   "execution_count": 384,
   "metadata": {},
   "outputs": [
    {
     "name": "stdout",
     "output_type": "stream",
     "text": [
      "0.7032821032648868\n"
     ]
    }
   ],
   "source": [
    "''' 1b Calculate the correlation between grams_sugar_per_day and happiness_score.'''\n",
    "# Calculate correlation between grams_sugar_per_day and happiness_score\n",
    "cor = world_happiness['grams_sugar_per_day'].corr(world_happiness['happiness_score'])\n",
    "print(cor)"
   ]
  },
  {
   "cell_type": "markdown",
   "metadata": {},
   "source": [
    "### Video Lesson 4.12: Congratulations! ###\n",
    "\n",
    "[https://campus.datacamp.com/courses/introduction-to-statistics-in-python/correlation-and-experimental-design-4?ex=12]"
   ]
  }
 ],
 "metadata": {
  "kernelspec": {
   "display_name": "Python 3",
   "language": "python",
   "name": "python3"
  },
  "language_info": {
   "codemirror_mode": {
    "name": "ipython",
    "version": 3
   },
   "file_extension": ".py",
   "mimetype": "text/x-python",
   "name": "python",
   "nbconvert_exporter": "python",
   "pygments_lexer": "ipython3",
   "version": "3.9.21"
  }
 },
 "nbformat": 4,
 "nbformat_minor": 2
}
